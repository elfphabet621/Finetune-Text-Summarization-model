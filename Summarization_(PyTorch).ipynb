{
  "cells": [
    {
      "cell_type": "markdown",
      "metadata": {
        "id": "ctN351tB5odU"
      },
      "source": [
        "# Summarization (PyTorch)"
      ]
    },
    {
      "cell_type": "code",
      "execution_count": null,
      "metadata": {
        "id": "ZPl27vzw5ode"
      },
      "outputs": [],
      "source": [
        "!pip install datasets evaluate transformers[sentencepiece] -qq\n",
        "!pip install accelerate -qq\n",
        "!pip install rouge_score -qq\n",
        "!pip install nltk -qq"
      ]
    },
    {
      "cell_type": "markdown",
      "source": [
        "## Libraries"
      ],
      "metadata": {
        "id": "IxjycLWXdF8u"
      }
    },
    {
      "cell_type": "code",
      "source": [
        "from datasets import load_dataset, Dataset, concatenate_datasets, DatasetDict\n",
        "from transformers import AutoTokenizer\n",
        "from transformers import AutoModelForSeq2SeqLM\n",
        "from transformers import DataCollatorForSeq2Seq\n",
        "from accelerate import Accelerator\n",
        "from torch.optim import AdamW\n",
        "from transformers import get_scheduler\n",
        "\n",
        "import torch\n",
        "from torch.utils.data import DataLoader\n",
        "\n",
        "import evaluate\n",
        "import nltk\n",
        "from nltk.tokenize import sent_tokenize\n",
        "\n",
        "import pandas as pd\n",
        "import numpy as np"
      ],
      "metadata": {
        "id": "euJLtsnudHle"
      },
      "execution_count": null,
      "outputs": []
    },
    {
      "cell_type": "markdown",
      "source": [
        "## Args"
      ],
      "metadata": {
        "id": "j7qfdoHYdvUL"
      }
    },
    {
      "cell_type": "code",
      "source": [
        "max_input_length = 512\n",
        "max_target_length = 30\n",
        "batch_size = 4\n",
        "num_train_epochs = 3"
      ],
      "metadata": {
        "id": "9Ogcz6MJdwJW"
      },
      "execution_count": null,
      "outputs": []
    },
    {
      "cell_type": "markdown",
      "source": [
        "## Download + Preprocess data"
      ],
      "metadata": {
        "id": "DQH32luVU_dk"
      }
    },
    {
      "cell_type": "code",
      "execution_count": null,
      "metadata": {
        "id": "W9ZQKvxV5odm",
        "outputId": "f9772374-07c8-48ae-8ad5-adf68912f5a4",
        "colab": {
          "base_uri": "https://localhost:8080/",
          "height": 205,
          "referenced_widgets": [
            "cbe3aa642db64b47a96d13de0d098e1e",
            "b49b0132a6aa4240b1ba0c96d57170e1",
            "784ea938f14144708d717ffbb2e73d45",
            "d7a662507e1646b981bc40076f5423d4",
            "7232c734b5ea48eba302173fc48dfe61",
            "26323efea2b849b282b030bafc36fc8c",
            "bbd01659103f422dad0628c2e35a3c41",
            "293b622e093a41d584b4b7a71145dd5c",
            "99602ebb66a14a2eb987bcd2cbf98f0b",
            "b4d06131ed874367b5f0e59348d0bc26",
            "1079f91412be4a35b98e9afdb92ba5f9",
            "e8e3284335b34446b159f05dadedcfbd",
            "e7c8b711aea9497cb9b5ed59b1b18c7c",
            "212a693bad9c4c6fa7d240d81f80c3cd",
            "52c4d4286bf243198166c35c5341365d",
            "cbfd7e3bbe4c4279952c1d0791ef1213",
            "b020f78fd0be4ccea390cf72e711965c",
            "a161307c396f4e5f98ffdc248fcdc897",
            "3dd53cc5182742f08e024428c6e552c7",
            "b65daf60559f47d4acd8b291bb3303a8",
            "7719d4f9b87d48bd9bb0b277495552c0",
            "a947cbf53ef34335b6a346980b6bf940"
          ]
        }
      },
      "outputs": [
        {
          "output_type": "stream",
          "name": "stderr",
          "text": [
            "WARNING:datasets.builder:Found cached dataset wiki_lingua (/root/.cache/huggingface/datasets/wiki_lingua/vietnamese/1.1.1/dad5f0710d1bb1a2ed1eb7633802fe147ebd27a3812985f5641bb7aca6ba5c08)\n"
          ]
        },
        {
          "output_type": "display_data",
          "data": {
            "text/plain": [
              "  0%|          | 0/2 [00:00<?, ?it/s]"
            ],
            "application/vnd.jupyter.widget-view+json": {
              "version_major": 2,
              "version_minor": 0,
              "model_id": "cbe3aa642db64b47a96d13de0d098e1e"
            }
          },
          "metadata": {}
        },
        {
          "output_type": "stream",
          "name": "stderr",
          "text": [
            "WARNING:datasets.builder:Found cached dataset wiki_lingua (/root/.cache/huggingface/datasets/wiki_lingua/english/1.1.1/dad5f0710d1bb1a2ed1eb7633802fe147ebd27a3812985f5641bb7aca6ba5c08)\n"
          ]
        },
        {
          "output_type": "display_data",
          "data": {
            "text/plain": [
              "  0%|          | 0/2 [00:00<?, ?it/s]"
            ],
            "application/vnd.jupyter.widget-view+json": {
              "version_major": 2,
              "version_minor": 0,
              "model_id": "e8e3284335b34446b159f05dadedcfbd"
            }
          },
          "metadata": {}
        },
        {
          "output_type": "execute_result",
          "data": {
            "text/plain": [
              "Dataset({\n",
              "    features: ['section_name', 'document', 'summary'],\n",
              "    num_rows: 1000\n",
              "})"
            ]
          },
          "metadata": {},
          "execution_count": 4
        }
      ],
      "source": [
        "vietnamese_train_ds, vietnamese_test_ds = load_dataset(\"wiki_lingua\", \"vietnamese\", split=['train[:1000]', 'train[2000:2500]'])\n",
        "english_train_ds, english_test_ds = load_dataset(\"wiki_lingua\", \"english\", split=['train[:1000]', 'train[2000:2500]'])\n",
        "\n",
        "def preporcess_columns_data_type(ds):\n",
        "  ds = pd.DataFrame(data=ds['article'])\n",
        "  ds['document'] = ds['document'].apply(lambda x: ' '.join(x))\n",
        "  ds['summary'] = ds['summary'].apply(lambda x: ' '.join(x))\n",
        "\n",
        "  return ds\n",
        "\n",
        "def parse_dataset(ds_train, ds_test):\n",
        "  ds_train = preporcess_columns_data_type(ds_train)\n",
        "  ds_train = Dataset.from_pandas(ds_train)\n",
        "\n",
        "  ds_test = preporcess_columns_data_type(ds_test)\n",
        "  ds_test = Dataset.from_pandas(ds_test)\n",
        "\n",
        "  return ds_train, ds_test\n",
        "\n",
        "english_train_ds, english_test_ds = parse_dataset(english_train_ds, english_test_ds)\n",
        "vietnamese_train_ds, vietnamese_test_ds = parse_dataset(vietnamese_train_ds, vietnamese_test_ds)\n",
        "english_train_ds"
      ]
    },
    {
      "cell_type": "code",
      "execution_count": null,
      "metadata": {
        "id": "wbSXNcdo5odo",
        "outputId": "e429b8f1-9fea-4b8a-e858-79edf4eb37c5",
        "colab": {
          "base_uri": "https://localhost:8080/"
        }
      },
      "outputs": [
        {
          "output_type": "stream",
          "name": "stdout",
          "text": [
            "\n",
            "'>> Document: '\n",
            "'>> Summary: '\n",
            "\n",
            "'>> Document: '\n",
            "'>> Summary: '\n",
            "\n",
            "'>> Document: This is because grain is not a natural diet for cattle, and often causes more issues and illnesses than grass or hay does.  This is often one faultless preventative measure that a lot of producers can (and do) fall back on.  This helps with ease of digestion in the rumen, and also prevents the microbes in the rumen from digesting this high-concentrate ration too fast. Roughage should not be finely chopped, as this will often defeat the purpose of preventing acidosis.  Coarsely-chopped (or not chopped at all!) roughage is best. Then they over-eat to compensate for the loss of diet they missed during this interruption.  Often during extremely hot spells cattle won't eat during the day, then eat their hearts out at night when it's cooler. Thus, try to keep feeding schedules as routine as possible and keep feeding to several times a day to keep cattle from getting hungry between meals. Symptoms:  Cattle with acute acidosis may go into shock and die suddenly due to a result of overwhelming increase in acidity in the rumen. Those that do not die quickly are listless and often lethargic, and wander aimlessly around the pen, or just simply don't get up from lying down.  They also often appear weak and anorexic and dehydrated. Related health problems may occur from an animal having acute acidosis. Rumen lining may be damaged from the sudden drop in acidity leaving the lining of the stomach to be damaged, causing rumenitis, or an infection of the rumen wall.  Inflammation also occurs in the abomasum and intestinal walls, often destroy the villi that are responsible for nutrient absorption from the digesta. Poor feed efficiency, slow growth, poor weight gain or a drop in milk production is often a result of this inflammatory damage.  Occasionally acidosis is responsible for a suppressed immune system which may prevent an animal's ability to ward off infection from airborne or communicable viruses or bacteria. Founder (also called Laminitis) and bloat are also a result of this metabolic disorder.  Founder often leaves cattle permanently lame.  This is a serious case for young bulls that are being feed-tested prior to sale, more so than in dairy cows or feedlot steers/heifers. Bloat is a serious disorder that disables a bovine to release any gases that have built up in the rumen.  The rumen can engorge so much that it crushes the lungs and eventually asphyxiates cattle if not treated immediately.   Liver abscesses are also common in cattle that had acidosis.  Reduced feed intake, feed efficiency, weight gain and carcass yield is often a result of abscesses in the liver. Liver abscesses often cannot be seen until the animal is slaughtered.  Abscessed livers are condemned at slaughter, because they are not deemed safe for humans to eat.  Polioencephalomalacia (not related to the paralyzing human version of polio) is also a concern for cattle that have had acidosis. Thiamine is often a highly recommended injection to give to cattle with acute acidosis, as it is very important in treating and stopping a sudden acidosis attack.  Acidosis very often halts the production of thiamine through digestion, and an injection of Thiamine will reverse this process. Baking soda will also work as a treatment for cattle with acidosis.  Diarrhea can often be a foamy greyish colour, especially in those animals where it is more serious. '\n",
            "'>> Summary: The most obvious preventative measure is to not have cattle on grain in the first place. Feeding grain often cannot be avoided, though, so gradually increasing the grain ration over time is the best way to prevent acidosis while still feeding cattle grain. Always include roughage with the grain diet you are giving your cattle. Often Nature-caused interruptions like storms, hot- or cold-spells, and extreme weather, or change in schedules such as being handled or hauled to a new farm or ranch can cause cattle to reduce their feed intake or stop eating all together until the danger has passed. Know the symptoms of Acute Acidosis as described below. Treat the cattle that are suspected to have acidosis, if you can before they up and die on you. It is best to visit your vet as soon as possible to get a proper dosage and any other necessary additional treatments needed. Symptoms include kicking at the belly due to ingestion, as well as discomfort, drooling, panting, eating dirt, and diarrhea. Most animals recover from subacute acidosis without treatment, but to be safer than sorrier, have treatments on hand\n",
            "'\n"
          ]
        }
      ],
      "source": [
        "def show_samples(dataset, num_samples=3, seed=42):\n",
        "  sample = dataset.shuffle(seed=seed).select(range(num_samples))\n",
        "\n",
        "  for example in sample:\n",
        "      print(f\"\\n'>> Document: {example['document']}'\")\n",
        "      print(f\"'>> Summary: {example['summary']}'\")\n",
        "\n",
        "show_samples(english_train_ds)"
      ]
    },
    {
      "cell_type": "code",
      "execution_count": null,
      "metadata": {
        "id": "IDc-3XCz5odt",
        "outputId": "cb8a213c-514d-4b70-ebd6-0be4c8c5f869",
        "colab": {
          "base_uri": "https://localhost:8080/"
        }
      },
      "outputs": [
        {
          "output_type": "stream",
          "name": "stdout",
          "text": [
            "\n",
            "'>> Document: Nhúng khăn giấy vào bất cứ loại dầu ăn nào bạn có và đắp lên vết keo, để yên vài phút rồi bỏ ra. Bạn có thể chà hoặc cạo để loại bỏ phần lớn vết keo.  Các sản phẩm khác chứa dầu cũng có hiệu quả, chẳng hạn như dầu em bé, bơ lạc hoặc mayonnaise. Cẩn thận nếu quanh đó có các vật liệu thấm hút, chẳng hạn như thảm hoặc quần áo. Dầu có thể gây ra các vết ố bẩn. Nếu không yên tâm, bạn nên dùng muối nở thay cho dầu. Trộn một lượng dầu dừa và muối nở bằng nhau trong bát nhỏ. Trộn kỹ đến khi hỗn hợp có kết cấu như bột nhão. Nếu không có dầu dừa, bạn có thể thử trộn muối nở hoặc giấm với nước ấm. Nhúng giẻ mềm hoặc bàn chải đánh răng cũ vào hỗn hợp và phết lên khắp vết keo. Sau 30 phút đến 1 tiếng, bạn hãy quay lại để hoàn tất công việc làm sạch. Dấp nước ấm vào miếng giẻ sạch. Lượng keo còn sót sẽ bong ra khi bạn chà giẻ ẩm lên bề mặt món đồ. Dùng giẻ mềm hoặc khăn giấy để lau khô nước và kiểm tra vết keo còn sót. Bạn cũng có thể dùng dao hoặc dụng cụ cạo sơn để làm bong lượng keo còn lại. Dao cắt bơ là lý tưởng nhất, nhưng bạn cũng có thể dùng dao trét mát-tít hoặc dao cạo an toàn có gắn dải bảo vệ. Đặt lưỡi dao nằm sát xuống mặt phẳng và từ từ trượt trên bề mặt để cạo lớp keo. Cạo nhẹ tay để tránh làm trầy xước bề mặt. Nếu sợ món đồ bị trầy xước, bạn có thể bỏ qua bước này. Tẩm ướt giẻ bằng cồn isopropyl mua ở hiệu thuốc. Nhớ dùng giẻ sạch và mềm để tránh làm hư hại bề mặt đang tẩy rửa. Chà giẻ tới lui trên bề mặt cho đến khi keo bong ra. Cồn tẩy rửa kết hợp với động tác chà xát sẽ loại bỏ phần lớn vết keo. A-xê-tôn hoặc dung dịch tẩy sơn móng tay cũng có thể dùng thay thế cho cồn tẩy rửa, nhưng các dugn dịch này dễ làm hỏng các bề mặt có sơn. Pha 2 thìa canh nước rửa bát với 2 cốc nước, khuấy cho đến khi hỗn hợp nổi bọt. Nhúng giẻ mềm vào nước xà phòng và chà nhẹ lên vết keo. Tiếp tục chà cho đến khi bề mặt không còn trơn hoặc dính. Bất cứ loại xà phòng nào nhẹ hoặc trung bình đều dùng được. Tránh dùng xà phòng có công thức chuyên tẩy dầu mỡ và các vết bẩn cứng đầu. Dùng giẻ sạch hoặc khăn giấy thấm nước trên bề mặt vừa xử lý. Sau khi lau sạch, bề mặt phải không còn nhám ráp hoặc dính vì keo còn sót. Dùng máy sấy tóc thổi gió nóng vào bề mặt để làm mềm vết keo. Sau 1 phút, vết keo sẽ đủ nóng để bạn có thể làm sạch. Dùng dao hoặc dụng cụ khác cẩn thận cạo vết keo. Nếu keo không sạch hẳn, bạn hãy chuyển sang phương pháp khác. Dầu WD-40 có bán tại các cửa hàng vật liệu sửa chữa nhà. Bạn có thể xịt trực tiếp lên bề mặt dính nhiều keo hoặc mảnh vải bông xù để xử lý các vết keo nhỏ. Để cho ngấm khoảng 1 phút, sau đó chà sạch bằng xà phòng và nước.  Dầu WD-40 rất thích hợp để xử lý các vật liệu như bề mặt xe hơi. Đọc cảnh báo trên hộp sản phẩm để tránh dùng trên các bề mặt có thể bị ố bẩn. Kem Vaseline hoặc sáp đánh bóng xe cũng có thể dùng thay cho dầu WD-40. Các sản phẩm tẩy vết keo này cũng có bán ở các cửa hàng tổng hợp và có các nhãn hiệu để loại bỏ keo dính một cách chuyên nghiệp. Sử dụng theo hướng dẫn trên nhãn. Các sản phẩm này cũng có hiệu quả khi dùng ở nhà. Phương pháp này chỉ được sử dụng trên các vật liệu xây dựng kiên cố như đá, gạch và bê tông. Dùng máy phun rửa áp lực nước hoặc máy phun cát hướng vào vết keo. Bật và tắt máy từng đợt ngắn cho đến khi vết keo biến mất. Hãy thật cẩn thận khi áp dụng phương pháp này. Các thiết bị này có thể để lại vết trên hầu hết các bề mặt.'\n",
            "'>> Summary: Nhúng khăn giấy vào dầu ăn và đắp lên vết keo. Trộn hỗn hợp dầu dừa và muối nở. Phết hỗn hợp lên vết keo và để cho ngấm khoảng 30 phút. Rửa sạch hỗn hợp bằng nước ấm. Dùng giẻ lau khô bề mặt vừa tẩy keo. Cạo vết keo bằng lưỡi dao cùn. Tẩm cồn tẩy rửa vào miếng giẻ mềm và chà lên vết keo. Cọ bề mặt dính keo bằng xà phòng và nước ấm. Lau khô bề mặt. Dùng máy sấy tóc làm nóng để loại bỏ nhanh vết keo. Xịt dầu WD-40 để xử lý vết keo trên bề mặt kim loại. Sử dụng sản phẩm mạnh để loại bỏ vết keo. Sử dụng áp lực nước hoặc máy phun cát để làm sạch đá và bê tông.'\n",
            "\n",
            "'>> Document: Bạn sẽ tiếp cận hai hệ thống số đếm khác nhau trong tiếng Hàn, một hệ thống dựa vào từ ngữ thuần Hàn và hệ thống còn lại liên quan đến tiếng Trung (hệ này được gọi là Hán Hàn). Trong phần lớn các trường hợp, nếu chỉ đơn thuần đếm từ 1 đến 10 (và không đếm tiền hay bất kỳ đồ vật đặc biệt nào khác), bạn sẽ cần sử dụng hệ thống số đếm thuần Hàn (điều này cũng đúng trong môn võ Taekwondo).  Các số trong tiếng Hàn được viết bằng ký tự gọi là Hangul, và không sử dụng bảng chữ cái La-tinh. Do đó, cách phiên âm sang chữ La-tinh của các từ tiếng Hàn giữa những trang trực tuyến là khác nhau và đều dựa trên ngữ âm.  1 하나 (phát âm là \"ha-na\") 2 둘 (đul) 3 셋 (sết) 4 넷 (nết) 5 다섯 (đa-sót) 6 여섯 (yo-sót) 7 일곱 (il-gốp) 8 여덟 (yo-đol) 9 아홉 (a-hốp) 10 열 (yol)   Ghi nhớ: Người Hàn sử dụng cả hai hệ thống số đếm, cách thức sử dụng tùy thuộc ngữ cảnh. Vì vậy, ví dụ, số 10 có thể là hai từ khác nhau, tùy thuộc vào đồ vật đang được đếm.  Tuy nhiên, phần lớn các loại đồ vật đều được đếm bằng hệ thống số thuần Hàn, ngoại trừ trường hợp đếm tiền. Do đó, sách, người, cây và bất kỳ đồ vật nào khác cũng được đếm bằng số thuần Hàn. Số thuần Hàn được sử dụng khi số lượng đồ vật nằm trong khoảng từ 1 đến 60 và dùng khi nói về tuổi. Số đếm Hán Hàn được sử dụng cho ngày tháng, số điện thoại, số tiền, địa chỉ, và các số trên 60.  1 일 (phát âm là il) 2 이 (i) 3 삼 (sam) 4 사 (sa) 5 오 (ô) 6 육 (yuk) 7 칠 (chil) 8 팔 (pal) 9 구 (gu) 10 십 (síp) Có một vài trường hợp đặc biệt mà hệ thống số đếm Hán Hàn cũng được sử dụng cho các số nhỏ hơn, ví dụ như số trong địa chỉ, số điện thoại, ngày, tháng, năm, phút, các đơn vị độ dài, diện tích, khối lượng, thể tích, và các số sau dấu thập phân. Thông thường, hệ thống số đếm này được sử dụng cho những số lớn hơn 60.  Mặc dù bạn thường sử dụng hệ số đếm thuần Hàn để đếm từ 1 đến 10 trong môn võ Taekwondo, bạn nên dùng hệ số đếm Hán Hàn khi mô tả đai của một người. Do đó, nhất đẳng huyền đai trong tiếng Hàn phát âm là “il-đan,” sử dụng số đếm Hán Hàn cho 1 (“il”). Có hai từ chỉ số 0, tuy nhiên cả hai đều thuộc hệ số đếm Hán Hàn.  Sử dụng 영 khi nói về số điểm nhận được hoặc mất đi, ví dụ như trong trò chơi hay chương trình đố vui, để nói về nhiệt độ và các số trong toán học.  Sử dụng 공 khi nói về số điện thoại. Tùy thuộc vào từ mà bạn đang nói, bạn có thể nhấn mạnh một âm tiết để phát âm chính xác hơn. Một vài trang trực tuyến cho phép bạn nghe cách người bản xứ phát âm từng từ một. Bạn cũng có thể tự ghi âm để so sánh.  Nhấn đúng trọng âm. Ví dụ, bạn cần nhấn vào âm tiết thứ hai ở các từ \"ha-na\", \"đa-sót\" và \"yo-sót\". Tuy nhiên, bạn cần nhấn vào âm tiết thứ nhất trong các từ \"il-gốp\", \"yo-đol\" và \"a-hốp\". Đừng bất ngờ khi bạn thấy nhiều cách phiên âm số đếm khác nhau ở các trang trực tuyến. Có nhiều cách viết khác biệt trong quá trình phiên âm từ tiếng Hàn sang tiếng La-tinh. Khi đếm số trong môn Taekwondo, âm tiết không phải là trọng âm gần như biến mất (như khi nói “han” thay cho \"ha-na\" và “đas” thay cho \"đa-sót\").  Làm tròn âm \"l\" trong \"chil\" và \"pal\". Âm này sẽ nghe giống âm “l” trong từ “let” của tiếng Anh hơn là âm “ll” trong từ “tall” của tiếng Anh. Âm \"s\" trong từ “síp” được phát âm như tiếng Việt. Sẽ là thảm họa nếu bạn phát âm \"s\" như từ “ship” trong tiếng Anh. Từ mà bạn nói khi đó sẽ ám chỉ quan hệ tình dục! Có nhiều trường hợp trong tiếng Hàn mà các chữ cái trong từ không được phát âm. Bạn sẽ không thể phát âm đúng nếu không tìm ra được những trường hợp này.  Âm \"t\" ở cuối gần như là âm câm, ví dụ như trong các từ “sết” và “nết”. Trong tiếng Hàn, chữ \"đ\" được phát âm gần như \"t\" khi là phụ âm đầu và phụ âm cuối, chữ \"l\" được phát âm như \"r\" khi là phụ âm đầu. Tiếng Hàn còn nhiều nguyên tắc khác mà bạn cần nghiên cứu. Những người nói tiếng Anh thường kết thúc từ bằng một âm thanh. Ví dụ, họ phát âm chữ \"p\" trong từ “trip” bằng một hơi thở nhẹ ở cuối. Người Hàn không kết thúc từ bằng hơi thở nhẹ như vậy. Họ kết thúc từ khi miệng vẫn đang ở vị trí cũ, như khi họ phát âm phụ âm cuối cùng trong từ. Một lý do khiến nhiều người muốn học đếm số trong tiếng Hàn là bởi họ phải sử dụng những số này khi giãn cơ và luyện tập Taekwondo. Nếu đó cũng là lý do của bạn, việc học các thuật ngữ trong Taekwondo cũng sẽ đem lại lợi ích.  Đòn đá thẳng đọc là “Áp-cha-gi”. \"Cha-gi\" là đòn đá. Đòn đá vòng cầu là “Đồ-li-ô cha-gi”.  Một số câu lệnh quan trọng trong Taekwondo bao gồm: Nghiêm - \"Cha-ri-ót\"; Trở về tư thế chuẩn bị - \"Ba-rô\"  và Hô - \"Ki-háp\".  Một số câu tiếng Hàn phổ biến khác được sử dụng trong Taekwondo bao gồm: Cảm ơn (“Cam-sa-ham-ni-đa”); Xin chào (“An-nhoong-ha-sê-yô”); và Tạm biệt (“An-nhoong-hi ga-sê-yô”). Có thể bạn không chỉ muốn dừng lại ở 10. Thực sự việc đếm các số trên 10 trong hệ thống số đếm thuần Hàn cũng khá dễ dàng nếu bạn đã hiểu rõ một vài khái niệm.  “Yol” nghĩa là 10 trong tiếng Hàn. Vậy nếu bạn muốn nói số 11, bạn sẽ nói \"yol\" và từ tương ứng cho số 1, \"ha-na\": yol ha-na. Tương tự như vậy với các số từ 11 đến 19. Số hai mươi phát âm là “sư-mul.” Với các số từ 21 đến 29, hãy bắt đầu từ tiếng Hàn cho số 20. Vậy số 21 sẽ là \"sư-mul\" cộng với từ tương ứng cho số 1: sư-mul ha-na, và tiếp tục như vậy. Áp dụng cách thức tương tự để đếm các số lớn hơn và sử dụng các từ sau: ba mươi (đọc là \"so-rưn\"); bốn mươi (\"ma-hưn\"); năm mươi (\"suyn\"); sáu mươi (\"yê-sun\"); bảy mươi (\"i-rưn\"); tám mươi (\"yo-đưn\"); chín mươi (\"a-hưn\"); một trăm (\"béc\"). Chữ cái tiếng Hàn nhìn có thể giống chữ tiếng Trung hoặc tiếng Nhật với người chưa học tiếng, nhưng thực chất các chữ cái tiếng Hàn hoàn toàn khác biệt và, may thay, dễ học hơn chữ của các tiếng khác.  Bảng chữ cái Hangul của tiếng Hàn chỉ bao gồm 24 chữ cái và một số biến thể đơn giản. Các ngôn ngữ châu Á khác không như vậy; thậm chí nếu học những ngôn ngữ này, bạn còn phải ghi nhớ hàng ngàn chữ tượng hình.  Khi viết bằng Hangul, mỗi chữ là một âm tiết. Mọi âm tiết trong tiếng Hàn đều bắt đầu bằng một phụ âm. Ở một vài khía cạnh, việc học tiếng Anh khó hơn tiếng Hàn, bởi những từ như \"read\" trong tiếng Anh có thể được phát âm theo các cách hoàn toàn khác nhau tùy thuộc ngữ cảnh. Tiếng Hàn không như vậy!'\n",
            "'>> Summary: Luyện tập hệ thống số đếm thuần Hàn. Thành thạo hệ thống số đếm Hán Hàn. Luyện tập số 0. Phát âm từ ngữ chuẩn xác. Thành thạo phong cách đếm số trong môn võ Taekwondo. Phân biệt các từ có chữ cái là âm câm, hoặc những chữ cái được phát âm tương tự các chữ cái khác. Sử dụng các từ tiếng Hàn cho những câu lệnh và đòn đá trong môn võ Taekwondo. Đếm các số lớn hơn 10 trong tiếng Hàn. Tìm hiểu điểm khác biệt giữa tiếng Hàn và các ngôn ngữ khác.'\n",
            "\n",
            "'>> Document: Either online or at your local post office, complete the change of address (COA) application. You can specify the date you want forwarding service to begin and the date you want it to end. After the end date, mail delivery will resume at your original address. You can use COA for a period as short as 15 days or as long as a year. However, if you're going to be gone for fewer than 30 days, it's typically better to have USPS hold your mail. With premium mail forwarding, most of the mail addressed to you at your home address is bundled together on Wednesday of each week and sent to you at your temporary address using Priority Mail. If you have a USPS account online, you'll get an email notification with the tracking number for your weekly mail package. To use the USPS's forwarding or COA services online, you must have an active USPS account and a major credit or debit card. To set up your account initially, you'll need a valid email address.  Go to https://reg.usps.com/ and click \"Create Account\" if you don't already have an account with USPS. If you do have an account, simply enter your username and password. You only need one account to access any USPS online services. When you request a COA, your credit or debit card will be charged $1.05. Although there is no charge for a COA, this charge is used to verify your identity. For premium residential forwarding, use a major credit or debit card to pay the enrollment fee and weekly fees for the duration of your request. As of 2019, the enrollment fee is $19.95 if you enroll online, plus $21.10 for each week of service. If you don't want to set up a USPS account online, a local USPS agent can help you get your mail forwarded. To request forwarding or COA services in person, bring a government-issued photo ID as well as a secondary ID as proof of residence. Your secondary ID could be a lease, mortgage statement, or utility bill.  If you're not sure which post office to use, visit https://tools.usps.com/find-location.htm? and enter your city and state or ZIP code. For in-person forwarding requests, use cash, personal check, or a major credit or debit card to pay the enrollment fee and weekly fees for the duration of your request. As of 2019, the enrollment fee is $21.10 for in-person requests, plus $21.10 for each week of service. There is no charge for a COA request made in person. If you want to have your hold period end earlier or want to cancel it entirely, you'll have to provide your confirmation number. This is true regardless of whether you're changing your request online or in person. If you cannot find your confirmation number, you won't be able to change your Hold Mail request online at all. USPS agents at your local post office can edit or cancel your Hold Mail request provided you have your confirmation number and a valid form of identification. It may take up to 1 day for any change you've requested to take effect.  Acceptable forms of primary identification include any government-issued photo ID, such as a state ID card, driver's license, university ID, or passport. In addition to your primary identification, bring a document to prove your address, such as a copy of your lease or mortgage, your voter or vehicle registration card, or a utility bill addressed to you at your address. If you find that you're going to be out of town longer than you thought when you submitted your original request, you can extend your request with a phone call. You do not need your confirmation number to extend your request. However, it's generally better if you have it.  You can also extend your request online through your USPS account, provided you have your confirmation number. To get the phone number for your local post office, go to https://tools.usps.com/find-location.htm? and enter your city and state or ZIP code. If you're held out of town longer than you originally planned and don't want to extend your Hold Mail request, you can also get a local friend or family member to pick up your mail at the local post office for you. Write a letter of permission and sign it, then send it to the person who will be picking up your mail.  The letter doesn't have to be long or complex. Simply write \"I authorize [First Name Last Name] to pick up my accumulated mail.\" Print your name under your signature and provide your address. You might also include your phone number just in case a USPS agent wants to contact you. The person who comes to pick up your mail must have a government-issued photo ID, such as a driver's license, military ID, university ID, or passport. The easiest way to submit a Hold Mail request is online. Before you can use this service, however, you must create a free online account with USPS. Your username is unique to you and follows you wherever you live throughout the US. If you move, you don't have to create a new account. To create a USPS account, go to https://reg.usps.com/ and click the \"Create Account\" button. You can submit a Hold Mail request for a minimum of 3 days and a maximum of 30 days. If you're going to be gone for more than 30 days, it may be more appropriate for you to have your mail forwarded.  Even if you're going to be gone for more than 30 days, you can still have your mail held for a shorter period if you prefer. Just make sure the end date coincides with the date when you'll return home so you'll be there to get your accumulated mail. The period of your request is measured in calendar days, not postal business days. Once the hold ends, you can pick up your mail at your local post office or have the carrier deliver the accumulated mail to your address. If you normally get a lot of mail or are expecting a lot of mail during the time you're going to be gone, it may be easier to go pick it up yourself. If you choose to let your mail carrier deliver the accumulated mail when the hold ends, they will only deliver as much as will fit in your mailbox. Any excess mail will be delivered at a later date. The authorization form specifies your name and address and the beginning and ending dates for the period you want USPS to hold your mail. You can get the form at your local post office or download it at https://about.usps.com/forms/ps8076.pdf.  The downloadable form isn't fillable, so you'll have to print it out and fill it out by hand. Write neatly in blue or black ink. If you submit your request online, you'll enter the same information you would normally enter on the authorization form. The online service asks you a series of questions to verify your identity. You must answer these questions correctly if you want to submit your request online. The questions are based on items in your credit report.  Although your credit report is accessed, your credit score is not affected in any way by the identity verification process. If the USPS is unable to verify your identity online, you'll have to submit your request in person. If you want to submit your request in person, you must go to the post office that delivers mail to your home. If you submit your request at a different post office, your request may not go through.  To locate the post office that delivers to your home, go to https://tools.usps.com/find-location.htm? and enter your city and state or ZIP code. Submit an in-person request at least 1 business day before you want the hold to start. Postal business days are Monday through Saturday, excluding holidays. When you submit your Hold Mail request, whether online or in person, you'll get a confirmation number. Put it in a safe place. You'll need it if you want to change the details of your Hold Mail request. If you submit your request online, the confirmation number will be generated on-screen. You might want to take a screencap of the page. You'll also get an email with the confirmation number. If you don't see this email in your inbox within a few minutes, check your spam folder.'\n",
            "'>> Summary: Change your address to have your mail forwarded piece by piece. Use premium mail forwarding if you want all your mail once a week. Set up a USPS account if you want to enroll in forwarding online. Visit your local post office in person to make your request. Locate the confirmation number for your request. Visit your local post office in person. Call your local post office if you're still out of town. Write a letter of permission if you want someone else to pick up your mail. Create a USPS account to submit your request online. Determine how long you need USPS to hold your mail. Decide how you want to receive your mail when the hold ends. Fill out the authorization form. Verify your identity to submit your request online. Visit your local post office to submit your request in person. Save the confirmation number for your request.'\n"
          ]
        }
      ],
      "source": [
        "dataset = DatasetDict()\n",
        "\n",
        "def concat_two_datasets(dataset1, dataset2):\n",
        "  dataset = concatenate_datasets([dataset1, dataset2])\n",
        "  dataset = dataset.shuffle(seed=42)\n",
        "  return dataset\n",
        "\n",
        "dataset['train'] = concat_two_datasets(english_train_ds, vietnamese_train_ds)\n",
        "dataset['test'] = concat_two_datasets(english_test_ds, vietnamese_test_ds)\n",
        "\n",
        "show_samples(dataset['train'])"
      ]
    },
    {
      "cell_type": "markdown",
      "source": [
        "## EDA + Filter data"
      ],
      "metadata": {
        "id": "fdzOvaMKVIUk"
      }
    },
    {
      "cell_type": "code",
      "source": [
        "def get_len(x):\n",
        "  return len(x.split())\n",
        "\n",
        "dataset.set_format(\"pandas\")\n",
        "df = dataset['train'][:]\n",
        "\n",
        "df[\"length\"] = df['document'].apply(get_len)\n",
        "\n",
        "df[\"length\"].sort_values(ascending=False).plot(kind='hist')"
      ],
      "metadata": {
        "colab": {
          "base_uri": "https://localhost:8080/",
          "height": 282
        },
        "id": "1sWHiD5FIuz7",
        "outputId": "1b59b850-cbd8-4b5b-9c27-7035f979c3b3"
      },
      "execution_count": null,
      "outputs": [
        {
          "output_type": "execute_result",
          "data": {
            "text/plain": [
              "<matplotlib.axes._subplots.AxesSubplot at 0x7fa799a5d8e0>"
            ]
          },
          "metadata": {},
          "execution_count": 7
        },
        {
          "output_type": "display_data",
          "data": {
            "text/plain": [
              "<Figure size 432x288 with 1 Axes>"
            ],
            "image/png": "[encoded data removed]"
          },
          "metadata": {
            "needs_background": "light"
          }
        }
      ]
    },
    {
      "cell_type": "code",
      "source": [
        "dataset.reset_format()\n",
        "dataset = dataset.filter(lambda x: get_len(x['document']) > 20 and get_len(x['document']) < 512)\n",
        "dataset"
      ],
      "metadata": {
        "colab": {
          "base_uri": "https://localhost:8080/",
          "height": 255,
          "referenced_widgets": [
            "7b7bf089c2fb4be2a1bb470d49cdc040",
            "4914d19e9d6e4dad8200801dd03341d4",
            "9220247c1e674143b8915d1af4b4f30b",
            "ae4cde6aa3644b67b0485cb8e4e453d0",
            "592ac0505fb549ddb02fefd8c59906a7",
            "c06904cfd92341c08b05b6eaae4fa9a8",
            "ebc280e066d44f1689045d4ba531b359",
            "607c437414164f98bd95c5f146232a6d",
            "0281a21fc5264dfda9e8aa3b28e934f1",
            "7b8ae03eef4c4de1b37e54646713fc84",
            "e042c4a7c4284f23984d006bfb57f08f",
            "8ff53f226582443697f767c9a62a786c",
            "0d04b740b27a4f2b8bfb95c8f9ab12ae",
            "1fe92e61634b4888ace8ca67f7a17849",
            "407f7f02668740e2beb43e752304b7ee",
            "4ab1e486008145bb9e3f4b41256df8e5",
            "09e031780eee445190ec8923e3e377a7",
            "3de0d89c69454d188c32e82215d84e37",
            "ed93589f12c44a8086c1c0c4fc5f0c7c",
            "36ddd668e7414324805f4439b678f060",
            "939c2f3959ee49b4b57a1873d934b0be",
            "fd2dd62a3e4e4a8d8956f456889b3042"
          ]
        },
        "id": "b1JsoksdN2ib",
        "outputId": "268292cc-e26e-45fd-dc2b-aa268cfe85d1"
      },
      "execution_count": null,
      "outputs": [
        {
          "output_type": "display_data",
          "data": {
            "text/plain": [
              "  0%|          | 0/2 [00:00<?, ?ba/s]"
            ],
            "application/vnd.jupyter.widget-view+json": {
              "version_major": 2,
              "version_minor": 0,
              "model_id": "7b7bf089c2fb4be2a1bb470d49cdc040"
            }
          },
          "metadata": {}
        },
        {
          "output_type": "display_data",
          "data": {
            "text/plain": [
              "  0%|          | 0/1 [00:00<?, ?ba/s]"
            ],
            "application/vnd.jupyter.widget-view+json": {
              "version_major": 2,
              "version_minor": 0,
              "model_id": "8ff53f226582443697f767c9a62a786c"
            }
          },
          "metadata": {}
        },
        {
          "output_type": "execute_result",
          "data": {
            "text/plain": [
              "DatasetDict({\n",
              "    train: Dataset({\n",
              "        features: ['section_name', 'document', 'summary', 'english_url', 'english_section_name'],\n",
              "        num_rows: 248\n",
              "    })\n",
              "    test: Dataset({\n",
              "        features: ['section_name', 'document', 'summary', 'english_url', 'english_section_name'],\n",
              "        num_rows: 127\n",
              "    })\n",
              "})"
            ]
          },
          "metadata": {},
          "execution_count": 8
        }
      ]
    },
    {
      "cell_type": "markdown",
      "source": [
        "## Metric"
      ],
      "metadata": {
        "id": "987cASWVVc1N"
      }
    },
    {
      "cell_type": "code",
      "execution_count": null,
      "metadata": {
        "id": "bPUgbACk5odz",
        "colab": {
          "base_uri": "https://localhost:8080/"
        },
        "outputId": "9092177c-53c9-4868-cc4f-7fb75aa1c08e"
      },
      "outputs": [
        {
          "output_type": "stream",
          "name": "stderr",
          "text": [
            "[nltk_data] Downloading package punkt to /root/nltk_data...\n",
            "[nltk_data]   Package punkt is already up-to-date!\n"
          ]
        }
      ],
      "source": [
        "rouge_score = evaluate.load(\"rouge\")\n",
        "nltk.download(\"punkt\")\n",
        "\n",
        "def three_sentence_summary(text):\n",
        "    return \"\\n\".join(sent_tokenize(text)[:3])\n",
        "\n",
        "def evaluate_baseline(dataset, metric):\n",
        "    summaries = [three_sentence_summary(text) for text in dataset[\"document\"]]\n",
        "    return metric.compute(predictions=summaries, references=dataset[\"summary\"])"
      ]
    },
    {
      "cell_type": "code",
      "source": [
        "def compute_metrics(eval_pred):\n",
        "    predictions, labels = eval_pred\n",
        "    # Decode generated summaries into text\n",
        "    decoded_preds = tokenizer.batch_decode(predictions, skip_special_tokens=True)\n",
        "    # Replace -100 in the labels as we can't decode them\n",
        "    labels = np.where(labels != -100, labels, tokenizer.pad_token_id)\n",
        "    # Decode reference summaries into text\n",
        "    decoded_labels = tokenizer.batch_decode(labels, skip_special_tokens=True)\n",
        "    # ROUGE expects a newline after each sentence\n",
        "    decoded_preds = [\"\\n\".join(sent_tokenize(pred.strip())) for pred in decoded_preds]\n",
        "    decoded_labels = [\"\\n\".join(sent_tokenize(label.strip())) for label in decoded_labels]\n",
        "    # Compute ROUGE scores\n",
        "    result = rouge_score.compute(\n",
        "        predictions=decoded_preds, references=decoded_labels, use_stemmer=True\n",
        "    )\n",
        "    # Extract the median scores\n",
        "    result = {key: value.mid.fmeasure * 100 for key, value in result.items()}\n",
        "    return {k: round(v, 4) for k, v in result.items()}"
      ],
      "metadata": {
        "id": "tIDQVPZ3Vral"
      },
      "execution_count": null,
      "outputs": []
    },
    {
      "cell_type": "markdown",
      "source": [
        "## Model"
      ],
      "metadata": {
        "id": "T8EaJK0PVlNd"
      }
    },
    {
      "cell_type": "code",
      "execution_count": null,
      "metadata": {
        "id": "zjv6Q6im5od2"
      },
      "outputs": [],
      "source": [
        "model_checkpoint = \"google/mt5-small\"\n",
        "model = AutoModelForSeq2SeqLM.from_pretrained(model_checkpoint)"
      ]
    },
    {
      "cell_type": "markdown",
      "source": [
        "## Tokenizer"
      ],
      "metadata": {
        "id": "dOZflWWgVM4F"
      }
    },
    {
      "cell_type": "code",
      "execution_count": null,
      "metadata": {
        "id": "mturQtN95odw",
        "colab": {
          "base_uri": "https://localhost:8080/"
        },
        "outputId": "7255be67-f811-460e-ef05-e64c761da79a"
      },
      "outputs": [
        {
          "output_type": "stream",
          "name": "stderr",
          "text": [
            "/usr/local/lib/python3.8/dist-packages/transformers/convert_slow_tokenizer.py:446: UserWarning: The sentencepiece tokenizer that you are converting to a fast tokenizer uses the byte fallback option which is not implemented in the fast tokenizers. In practice this means that the fast version of the tokenizer can produce unknown tokens whereas the sentencepiece version would have converted these unknown tokens into a sequence of byte tokens matching the original piece of text.\n",
            "  warnings.warn(\n"
          ]
        }
      ],
      "source": [
        "tokenizer = AutoTokenizer.from_pretrained(model_checkpoint)\n",
        "\n",
        "def preprocess_function(examples):\n",
        "    model_inputs = tokenizer(examples[\"document\"],\n",
        "        max_length=max_input_length,\n",
        "        truncation=True)\n",
        "    \n",
        "    labels = tokenizer(examples[\"summary\"], max_length=max_target_length, truncation=True)\n",
        "\n",
        "    model_inputs[\"labels\"] = labels[\"input_ids\"]\n",
        "    return model_inputs"
      ]
    },
    {
      "cell_type": "markdown",
      "source": [
        "## Dataset"
      ],
      "metadata": {
        "id": "q0ARflJZa5pM"
      }
    },
    {
      "cell_type": "code",
      "execution_count": null,
      "metadata": {
        "id": "ASbfwhQf5od5",
        "colab": {
          "base_uri": "https://localhost:8080/",
          "height": 81,
          "referenced_widgets": [
            "ad290e1afc0e4ac9ab753b2220cef164",
            "8141e7e6b0934df7baea1d32ecc8734d",
            "8e33ccc2257c445f95f5be235d93399d",
            "e0995cb4f6ba40a2a385d36c393af9b1",
            "b376f3c105124845a6c8fb440ea6a7f4",
            "2877caa12eb84e459a3c0544b52ca266",
            "d3b4d1f450c04868bd221141cdcaec75",
            "eca089a4df544126b2d6fe3dfdc1a422",
            "f73ebffff74e43818186dd56cec41253",
            "802c990b14394300a251758952464d35",
            "7dd20f3187d740c8bf0d6d20409e6a29",
            "9951c5e072854d38ac461d97ae79a5bd",
            "28fbef2d6a904ec89a54c1a95ba74b03",
            "3c9a266b5c1842bd874af524b210ed0d",
            "2eda08efac7c4050ac82947e816cf5f3",
            "b927d218bde54d1a9ca981b2ac24fc67",
            "298c5e72ed114984943be6703c1596c5",
            "97db7b827a1b4c83b3d46e6673a1db28",
            "d8dd0bed285c4cba8186064ddbd616b4",
            "e8a103c01cef4ae2b090944c4aa8a857",
            "1f6d784ab9b442e4a7ac77b6fc2aa9ce",
            "d83308823ebf424296bb67c4c10a6941"
          ]
        },
        "outputId": "527b4e76-a6e6-49be-e296-82cf392c756e"
      },
      "outputs": [
        {
          "output_type": "display_data",
          "data": {
            "text/plain": [
              "  0%|          | 0/4 [00:00<?, ?ba/s]"
            ],
            "application/vnd.jupyter.widget-view+json": {
              "version_major": 2,
              "version_minor": 0,
              "model_id": "ad290e1afc0e4ac9ab753b2220cef164"
            }
          },
          "metadata": {}
        },
        {
          "output_type": "display_data",
          "data": {
            "text/plain": [
              "  0%|          | 0/2 [00:00<?, ?ba/s]"
            ],
            "application/vnd.jupyter.widget-view+json": {
              "version_major": 2,
              "version_minor": 0,
              "model_id": "9951c5e072854d38ac461d97ae79a5bd"
            }
          },
          "metadata": {}
        }
      ],
      "source": [
        "tokenized_datasets = dataset.map(preprocess_function, batched=True, batch_size=64)\n",
        "tokenized_datasets = tokenized_datasets.remove_columns(\n",
        "    dataset[\"train\"].column_names)\n",
        "tokenized_datasets.set_format(\"torch\")"
      ]
    },
    {
      "cell_type": "markdown",
      "source": [
        "## DataLoader"
      ],
      "metadata": {
        "id": "QXY-DMtoVzTJ"
      }
    },
    {
      "cell_type": "code",
      "execution_count": null,
      "metadata": {
        "id": "LJGSvv-35od5"
      },
      "outputs": [],
      "source": [
        "data_collator = DataCollatorForSeq2Seq(tokenizer, model=model)\n",
        "\n",
        "train_dataloader = DataLoader(\n",
        "    tokenized_datasets[\"train\"],\n",
        "    shuffle=True,\n",
        "    collate_fn=data_collator,\n",
        "    batch_size=batch_size,)\n",
        "\n",
        "eval_dataloader = DataLoader(\n",
        "    tokenized_datasets[\"test\"], collate_fn=data_collator, batch_size=batch_size)"
      ]
    },
    {
      "cell_type": "code",
      "source": [
        "sample = next(iter(train_dataloader))\n",
        "sample"
      ],
      "metadata": {
        "colab": {
          "base_uri": "https://localhost:8080/"
        },
        "id": "vwHeLUzOSfi1",
        "outputId": "40282106-7032-4396-f387-e31b3738b280"
      },
      "execution_count": null,
      "outputs": [
        {
          "output_type": "stream",
          "name": "stderr",
          "text": [
            "You're using a T5TokenizerFast tokenizer. Please note that with a fast tokenizer, using the `__call__` method is faster than using a method to encode the text followed by a call to the `pad` method to get a padded encoding.\n"
          ]
        },
        {
          "output_type": "execute_result",
          "data": {
            "text/plain": [
              "{'input_ids': tensor([[   364,   1292,    885,  ...,    394,   2591,      1],\n",
              "        [   977,    924,    259,  ...,    330,   1292,      1],\n",
              "        [   458,   2294,    273,  ...,      0,      0,      0],\n",
              "        [   298,  13512, 101065,  ...,      0,      0,      0]]), 'attention_mask': tensor([[1, 1, 1,  ..., 1, 1, 1],\n",
              "        [1, 1, 1,  ..., 1, 1, 1],\n",
              "        [1, 1, 1,  ..., 0, 0, 0],\n",
              "        [1, 1, 1,  ..., 0, 0, 0]]), 'labels': tensor([[  352,  1269,   651,  1514,   297,   382,  2291,   394, 15975,   300,\n",
              "           908,  1672,  1452,   330,  1292,   890,  5189,   259,   318,  1642,\n",
              "           266,   259,  5079,   259,   793,  1552,   260,  1536,  2807,     1],\n",
              "        [  366,  1593,   690,  2271,   330,  1629,   326,   908,  3517,   317,\n",
              "           708,   262, 46467,   260, 40337, 12996,   273, 13160,   260,   412,\n",
              "          1878,   259,   272,  2163, 13160,   300,   908,  1382,   276,     1],\n",
              "        [  458,  2763,   259,   793,   266,   355,   268,  1292,   330,  2184,\n",
              "           331,  4647,   260,   364,  3571,   331,  1687,   331,  2294,  7790,\n",
              "           370,   350,   724,  8430,   259,  5600,   382,  1253,   259,     1],\n",
              "        [56338,   259,   262, 27416,   260,  5517,   287, 83782,  7063,   344,\n",
              "           461, 39307,  2387,   287, 27416,   260, 42958,   259,   262,   259,\n",
              "         82377,  1150,  4405,   264, 11073,   910,   287, 27416,   260,     1]]), 'decoder_input_ids': tensor([[    0,   352,  1269,   651,  1514,   297,   382,  2291,   394, 15975,\n",
              "           300,   908,  1672,  1452,   330,  1292,   890,  5189,   259,   318,\n",
              "          1642,   266,   259,  5079,   259,   793,  1552,   260,  1536,  2807],\n",
              "        [    0,   366,  1593,   690,  2271,   330,  1629,   326,   908,  3517,\n",
              "           317,   708,   262, 46467,   260, 40337, 12996,   273, 13160,   260,\n",
              "           412,  1878,   259,   272,  2163, 13160,   300,   908,  1382,   276],\n",
              "        [    0,   458,  2763,   259,   793,   266,   355,   268,  1292,   330,\n",
              "          2184,   331,  4647,   260,   364,  3571,   331,  1687,   331,  2294,\n",
              "          7790,   370,   350,   724,  8430,   259,  5600,   382,  1253,   259],\n",
              "        [    0, 56338,   259,   262, 27416,   260,  5517,   287, 83782,  7063,\n",
              "           344,   461, 39307,  2387,   287, 27416,   260, 42958,   259,   262,\n",
              "           259, 82377,  1150,  4405,   264, 11073,   910,   287, 27416,   260]])}"
            ]
          },
          "metadata": {},
          "execution_count": 15
        }
      ]
    },
    {
      "cell_type": "markdown",
      "source": [
        "## Optimizer"
      ],
      "metadata": {
        "id": "CZ4r5fvXV9v7"
      }
    },
    {
      "cell_type": "code",
      "source": [
        "optimizer = AdamW(model.parameters(), lr=2e-5)\n"
      ],
      "metadata": {
        "id": "KvqOuWD4eUCe"
      },
      "execution_count": null,
      "outputs": []
    },
    {
      "cell_type": "code",
      "execution_count": null,
      "metadata": {
        "id": "LLFRcqpv5od6"
      },
      "outputs": [],
      "source": [
        "accelerator = Accelerator()\n",
        "model, optimizer, train_dataloader, eval_dataloader = accelerator.prepare(\n",
        "    model, optimizer, train_dataloader, eval_dataloader)"
      ]
    },
    {
      "cell_type": "markdown",
      "source": [
        "## Scheduler"
      ],
      "metadata": {
        "id": "Jp3BMPtmV4CF"
      }
    },
    {
      "cell_type": "code",
      "execution_count": null,
      "metadata": {
        "id": "aD2JC9rM5od7"
      },
      "outputs": [],
      "source": [
        "num_update_steps_per_epoch = len(train_dataloader)\n",
        "num_training_steps = num_train_epochs * num_update_steps_per_epoch\n",
        "\n",
        "lr_scheduler = get_scheduler(\n",
        "    \"linear\",\n",
        "    optimizer=optimizer,\n",
        "    num_warmup_steps=0,\n",
        "    num_training_steps=num_training_steps,\n",
        ")"
      ]
    },
    {
      "cell_type": "code",
      "execution_count": null,
      "metadata": {
        "id": "nRyJuZZ85od7"
      },
      "outputs": [],
      "source": [
        "def postprocess_text(preds, labels):\n",
        "    preds = [pred.strip() for pred in preds]\n",
        "    labels = [label.strip() for label in labels]\n",
        "\n",
        "    # ROUGE expects a newline after each sentence\n",
        "    preds = [\"\\n\".join(nltk.sent_tokenize(pred)) for pred in preds]\n",
        "    labels = [\"\\n\".join(nltk.sent_tokenize(label)) for label in labels]\n",
        "\n",
        "    return preds, labels"
      ]
    },
    {
      "cell_type": "markdown",
      "source": [
        "## Train + Eval"
      ],
      "metadata": {
        "id": "K6t5OFS2IE8D"
      }
    },
    {
      "cell_type": "code",
      "execution_count": null,
      "metadata": {
        "id": "HWXAPOpt5od8",
        "colab": {
          "base_uri": "https://localhost:8080/",
          "height": 156,
          "referenced_widgets": [
            "6884b17024794d4d9e0e9b2efce8bb31",
            "adeb090e98e14472af8d6e5cbdb5652d",
            "23177cf71c354831b1a528f6e8b82291",
            "4a93ce80459c492abff5119d59e5403f",
            "d65dd3cb9bdb4bf58df59e32b0695a5e",
            "e3997df15f3747efa654b3597f06e9c5",
            "14614855b6a94d098eda2b00d85d317e",
            "51a44b94700c42a1ab3119108d325770",
            "a3326cbde6744d90a118b517e8d29c43",
            "c717a9d31f0f40a789a2d800348c89b4",
            "f5127599b86d4aed97f828d55606ccf3"
          ]
        },
        "outputId": "848b14ed-5e2c-47b5-bf51-38fc06b9925a"
      },
      "outputs": [
        {
          "output_type": "display_data",
          "data": {
            "text/plain": [
              "  0%|          | 0/186 [00:00<?, ?it/s]"
            ],
            "application/vnd.jupyter.widget-view+json": {
              "version_major": 2,
              "version_minor": 0,
              "model_id": "6884b17024794d4d9e0e9b2efce8bb31"
            }
          },
          "metadata": {}
        },
        {
          "output_type": "stream",
          "name": "stderr",
          "text": [
            "/usr/local/lib/python3.8/dist-packages/transformers/generation/utils.py:1273: UserWarning: Neither `max_length` nor `max_new_tokens` has been set, `max_length` will default to 20 (`generation_config.max_length`). Controlling `max_length` via the config is deprecated and `max_length` will be removed from the config in v5 of Transformers -- we recommend using `max_new_tokens` to control the maximum length of the generation.\n",
            "  warnings.warn(\n"
          ]
        },
        {
          "output_type": "stream",
          "name": "stdout",
          "text": [
            "Epoch 0: {'rouge1': 7.4506, 'rouge2': 1.3805, 'rougeL': 6.688, 'rougeLsum': 7.0708}\n",
            "Epoch 1: {'rouge1': 8.0576, 'rouge2': 1.6008, 'rougeL': 7.2462, 'rougeLsum': 7.6796}\n",
            "Epoch 2: {'rouge1': 8.1719, 'rouge2': 1.6008, 'rougeL': 7.3544, 'rougeLsum': 7.7304}\n"
          ]
        }
      ],
      "source": [
        "from tqdm.auto import tqdm\n",
        "import torch\n",
        "import numpy as np\n",
        "\n",
        "progress_bar = tqdm(range(num_training_steps))\n",
        "\n",
        "for epoch in range(num_train_epochs):\n",
        "    # Training\n",
        "    model.train()\n",
        "    for step, batch in enumerate(train_dataloader):\n",
        "        outputs = model(**batch)\n",
        "        loss = outputs.loss\n",
        "        accelerator.backward(loss)\n",
        "\n",
        "        optimizer.step()\n",
        "        lr_scheduler.step()\n",
        "        optimizer.zero_grad()\n",
        "        progress_bar.update(1)\n",
        "\n",
        "    # Evaluation\n",
        "    model.eval()\n",
        "    for step, batch in enumerate(eval_dataloader):\n",
        "        with torch.no_grad():\n",
        "            generated_tokens = accelerator.unwrap_model(model).generate(\n",
        "                batch[\"input_ids\"],\n",
        "                attention_mask=batch[\"attention_mask\"],\n",
        "            )\n",
        "\n",
        "            generated_tokens = accelerator.pad_across_processes(\n",
        "                generated_tokens, dim=1, pad_index=tokenizer.pad_token_id\n",
        "            )\n",
        "            labels = batch[\"labels\"]\n",
        "\n",
        "            # If we did not pad to max length, we need to pad the labels too\n",
        "            labels = accelerator.pad_across_processes(\n",
        "                batch[\"labels\"], dim=1, pad_index=tokenizer.pad_token_id\n",
        "            )\n",
        "\n",
        "            generated_tokens = accelerator.gather(generated_tokens).cpu().numpy()\n",
        "            labels = accelerator.gather(labels).cpu().numpy()\n",
        "\n",
        "            # Replace -100 in the labels as we can't decode them\n",
        "            labels = np.where(labels != -100, labels, tokenizer.pad_token_id)\n",
        "            if isinstance(generated_tokens, tuple):\n",
        "                generated_tokens = generated_tokens[0]\n",
        "            decoded_preds = tokenizer.batch_decode(\n",
        "                generated_tokens, skip_special_tokens=True\n",
        "            )\n",
        "            decoded_labels = tokenizer.batch_decode(labels, skip_special_tokens=True)\n",
        "\n",
        "            decoded_preds, decoded_labels = postprocess_text(\n",
        "                decoded_preds, decoded_labels\n",
        "            )\n",
        "\n",
        "            rouge_score.add_batch(predictions=decoded_preds, references=decoded_labels)\n",
        "\n",
        "    # Compute metrics\n",
        "    result = rouge_score.compute()\n",
        "    result ={key: round(value * 100, 4) for key, value in result.items()}\n",
        "    print(f\"Epoch {epoch}:\", result)"
      ]
    },
    {
      "cell_type": "markdown",
      "source": [
        "## Save model"
      ],
      "metadata": {
        "id": "hd49az_qFRoD"
      }
    },
    {
      "cell_type": "code",
      "source": [
        "output_dir = 'mt5-finetuned-summarization'\n",
        "\n",
        "accelerator.wait_for_everyone()\n",
        "unwrapped_model = accelerator.unwrap_model(model)\n",
        "unwrapped_model.save_pretrained(output_dir, save_function=accelerator.save)\n",
        "if accelerator.is_main_process:\n",
        "  tokenizer.save_pretrained(output_dir)"
      ],
      "metadata": {
        "id": "6DzmYkqRoGjY"
      },
      "execution_count": null,
      "outputs": []
    },
    {
      "cell_type": "markdown",
      "source": [
        "## Inference"
      ],
      "metadata": {
        "id": "IKFKar6qUjN7"
      }
    },
    {
      "cell_type": "code",
      "source": [
        "def preprocess_txt(examples):\n",
        "    model_inputs=tokenizer(\n",
        "    examples,\n",
        "    max_length=512,\n",
        "    padding=\"max_length\",\n",
        "    truncation=True,\n",
        "    return_attention_mask=True,\n",
        "    add_special_tokens=True,\n",
        "    return_tensors=\"pt\")\n",
        "\n",
        "    return model_inputs\n",
        "    \n",
        "input_example = preprocess_txt(doc)\n",
        "\n",
        "with torch.no_grad():\n",
        "  generated_tokens =model.generate(\n",
        "      input_ids=input_example[\"input_ids\"],\n",
        "      attention_mask=input_example[\"attention_mask\"],\n",
        "      num_beams=2,\n",
        "      max_length=100,\n",
        "      repetition_penalty=2.5,\n",
        "      length_penalty=2.0,\n",
        "      early_stopping=True,\n",
        "      use_cache=True\n",
        "  )\n",
        "\n",
        "preds=[tokenizer.decode(gen_id, skip_special_tokens=True, clean_up_tokenization_spaces=True) \n",
        "         for gen_id in generated_tokens]\n",
        "\n",
        "summary = \"\".join(preds)\n",
        "print(summary)"
      ],
      "metadata": {
        "id": "tURo5LCnIIuj"
      },
      "execution_count": null,
      "outputs": []
    }
  ],
  "metadata": {
    "colab": {
      "provenance": []
    },
    "language_info": {
      "name": "python"
    },
    "kernelspec": {
      "name": "python3",
      "display_name": "Python 3"
    },
    "gpuClass": "standard",
    "widgets": {
      "application/vnd.jupyter.widget-state+json": {
        "cbe3aa642db64b47a96d13de0d098e1e": {
          "model_module": "@jupyter-widgets/controls",
          "model_name": "HBoxModel",
          "model_module_version": "1.5.0",
          "state": {
            "_dom_classes": [],
            "_model_module": "@jupyter-widgets/controls",
            "_model_module_version": "1.5.0",
            "_model_name": "HBoxModel",
            "_view_count": null,
            "_view_module": "@jupyter-widgets/controls",
            "_view_module_version": "1.5.0",
            "_view_name": "HBoxView",
            "box_style": "",
            "children": [
              "IPY_MODEL_b49b0132a6aa4240b1ba0c96d57170e1",
              "IPY_MODEL_784ea938f14144708d717ffbb2e73d45",
              "IPY_MODEL_d7a662507e1646b981bc40076f5423d4"
            ],
            "layout": "IPY_MODEL_7232c734b5ea48eba302173fc48dfe61"
          }
        },
        "b49b0132a6aa4240b1ba0c96d57170e1": {
          "model_module": "@jupyter-widgets/controls",
          "model_name": "HTMLModel",
          "model_module_version": "1.5.0",
          "state": {
            "_dom_classes": [],
            "_model_module": "@jupyter-widgets/controls",
            "_model_module_version": "1.5.0",
            "_model_name": "HTMLModel",
            "_view_count": null,
            "_view_module": "@jupyter-widgets/controls",
            "_view_module_version": "1.5.0",
            "_view_name": "HTMLView",
            "description": "",
            "description_tooltip": null,
            "layout": "IPY_MODEL_26323efea2b849b282b030bafc36fc8c",
            "placeholder": "​",
            "style": "IPY_MODEL_bbd01659103f422dad0628c2e35a3c41",
            "value": "100%"
          }
        },
        "784ea938f14144708d717ffbb2e73d45": {
          "model_module": "@jupyter-widgets/controls",
          "model_name": "FloatProgressModel",
          "model_module_version": "1.5.0",
          "state": {
            "_dom_classes": [],
            "_model_module": "@jupyter-widgets/controls",
            "_model_module_version": "1.5.0",
            "_model_name": "FloatProgressModel",
            "_view_count": null,
            "_view_module": "@jupyter-widgets/controls",
            "_view_module_version": "1.5.0",
            "_view_name": "ProgressView",
            "bar_style": "success",
            "description": "",
            "description_tooltip": null,
            "layout": "IPY_MODEL_293b622e093a41d584b4b7a71145dd5c",
            "max": 2,
            "min": 0,
            "orientation": "horizontal",
            "style": "IPY_MODEL_99602ebb66a14a2eb987bcd2cbf98f0b",
            "value": 2
          }
        },
        "d7a662507e1646b981bc40076f5423d4": {
          "model_module": "@jupyter-widgets/controls",
          "model_name": "HTMLModel",
          "model_module_version": "1.5.0",
          "state": {
            "_dom_classes": [],
            "_model_module": "@jupyter-widgets/controls",
            "_model_module_version": "1.5.0",
            "_model_name": "HTMLModel",
            "_view_count": null,
            "_view_module": "@jupyter-widgets/controls",
            "_view_module_version": "1.5.0",
            "_view_name": "HTMLView",
            "description": "",
            "description_tooltip": null,
            "layout": "IPY_MODEL_b4d06131ed874367b5f0e59348d0bc26",
            "placeholder": "​",
            "style": "IPY_MODEL_1079f91412be4a35b98e9afdb92ba5f9",
            "value": " 2/2 [00:00&lt;00:00,  8.66it/s]"
          }
        },
        "7232c734b5ea48eba302173fc48dfe61": {
          "model_module": "@jupyter-widgets/base",
          "model_name": "LayoutModel",
          "model_module_version": "1.2.0",
          "state": {
            "_model_module": "@jupyter-widgets/base",
            "_model_module_version": "1.2.0",
            "_model_name": "LayoutModel",
            "_view_count": null,
            "_view_module": "@jupyter-widgets/base",
            "_view_module_version": "1.2.0",
            "_view_name": "LayoutView",
            "align_content": null,
            "align_items": null,
            "align_self": null,
            "border": null,
            "bottom": null,
            "display": null,
            "flex": null,
            "flex_flow": null,
            "grid_area": null,
            "grid_auto_columns": null,
            "grid_auto_flow": null,
            "grid_auto_rows": null,
            "grid_column": null,
            "grid_gap": null,
            "grid_row": null,
            "grid_template_areas": null,
            "grid_template_columns": null,
            "grid_template_rows": null,
            "height": null,
            "justify_content": null,
            "justify_items": null,
            "left": null,
            "margin": null,
            "max_height": null,
            "max_width": null,
            "min_height": null,
            "min_width": null,
            "object_fit": null,
            "object_position": null,
            "order": null,
            "overflow": null,
            "overflow_x": null,
            "overflow_y": null,
            "padding": null,
            "right": null,
            "top": null,
            "visibility": null,
            "width": null
          }
        },
        "26323efea2b849b282b030bafc36fc8c": {
          "model_module": "@jupyter-widgets/base",
          "model_name": "LayoutModel",
          "model_module_version": "1.2.0",
          "state": {
            "_model_module": "@jupyter-widgets/base",
            "_model_module_version": "1.2.0",
            "_model_name": "LayoutModel",
            "_view_count": null,
            "_view_module": "@jupyter-widgets/base",
            "_view_module_version": "1.2.0",
            "_view_name": "LayoutView",
            "align_content": null,
            "align_items": null,
            "align_self": null,
            "border": null,
            "bottom": null,
            "display": null,
            "flex": null,
            "flex_flow": null,
            "grid_area": null,
            "grid_auto_columns": null,
            "grid_auto_flow": null,
            "grid_auto_rows": null,
            "grid_column": null,
            "grid_gap": null,
            "grid_row": null,
            "grid_template_areas": null,
            "grid_template_columns": null,
            "grid_template_rows": null,
            "height": null,
            "justify_content": null,
            "justify_items": null,
            "left": null,
            "margin": null,
            "max_height": null,
            "max_width": null,
            "min_height": null,
            "min_width": null,
            "object_fit": null,
            "object_position": null,
            "order": null,
            "overflow": null,
            "overflow_x": null,
            "overflow_y": null,
            "padding": null,
            "right": null,
            "top": null,
            "visibility": null,
            "width": null
          }
        },
        "bbd01659103f422dad0628c2e35a3c41": {
          "model_module": "@jupyter-widgets/controls",
          "model_name": "DescriptionStyleModel",
          "model_module_version": "1.5.0",
          "state": {
            "_model_module": "@jupyter-widgets/controls",
            "_model_module_version": "1.5.0",
            "_model_name": "DescriptionStyleModel",
            "_view_count": null,
            "_view_module": "@jupyter-widgets/base",
            "_view_module_version": "1.2.0",
            "_view_name": "StyleView",
            "description_width": ""
          }
        },
        "293b622e093a41d584b4b7a71145dd5c": {
          "model_module": "@jupyter-widgets/base",
          "model_name": "LayoutModel",
          "model_module_version": "1.2.0",
          "state": {
            "_model_module": "@jupyter-widgets/base",
            "_model_module_version": "1.2.0",
            "_model_name": "LayoutModel",
            "_view_count": null,
            "_view_module": "@jupyter-widgets/base",
            "_view_module_version": "1.2.0",
            "_view_name": "LayoutView",
            "align_content": null,
            "align_items": null,
            "align_self": null,
            "border": null,
            "bottom": null,
            "display": null,
            "flex": null,
            "flex_flow": null,
            "grid_area": null,
            "grid_auto_columns": null,
            "grid_auto_flow": null,
            "grid_auto_rows": null,
            "grid_column": null,
            "grid_gap": null,
            "grid_row": null,
            "grid_template_areas": null,
            "grid_template_columns": null,
            "grid_template_rows": null,
            "height": null,
            "justify_content": null,
            "justify_items": null,
            "left": null,
            "margin": null,
            "max_height": null,
            "max_width": null,
            "min_height": null,
            "min_width": null,
            "object_fit": null,
            "object_position": null,
            "order": null,
            "overflow": null,
            "overflow_x": null,
            "overflow_y": null,
            "padding": null,
            "right": null,
            "top": null,
            "visibility": null,
            "width": null
          }
        },
        "99602ebb66a14a2eb987bcd2cbf98f0b": {
          "model_module": "@jupyter-widgets/controls",
          "model_name": "ProgressStyleModel",
          "model_module_version": "1.5.0",
          "state": {
            "_model_module": "@jupyter-widgets/controls",
            "_model_module_version": "1.5.0",
            "_model_name": "ProgressStyleModel",
            "_view_count": null,
            "_view_module": "@jupyter-widgets/base",
            "_view_module_version": "1.2.0",
            "_view_name": "StyleView",
            "bar_color": null,
            "description_width": ""
          }
        },
        "b4d06131ed874367b5f0e59348d0bc26": {
          "model_module": "@jupyter-widgets/base",
          "model_name": "LayoutModel",
          "model_module_version": "1.2.0",
          "state": {
            "_model_module": "@jupyter-widgets/base",
            "_model_module_version": "1.2.0",
            "_model_name": "LayoutModel",
            "_view_count": null,
            "_view_module": "@jupyter-widgets/base",
            "_view_module_version": "1.2.0",
            "_view_name": "LayoutView",
            "align_content": null,
            "align_items": null,
            "align_self": null,
            "border": null,
            "bottom": null,
            "display": null,
            "flex": null,
            "flex_flow": null,
            "grid_area": null,
            "grid_auto_columns": null,
            "grid_auto_flow": null,
            "grid_auto_rows": null,
            "grid_column": null,
            "grid_gap": null,
            "grid_row": null,
            "grid_template_areas": null,
            "grid_template_columns": null,
            "grid_template_rows": null,
            "height": null,
            "justify_content": null,
            "justify_items": null,
            "left": null,
            "margin": null,
            "max_height": null,
            "max_width": null,
            "min_height": null,
            "min_width": null,
            "object_fit": null,
            "object_position": null,
            "order": null,
            "overflow": null,
            "overflow_x": null,
            "overflow_y": null,
            "padding": null,
            "right": null,
            "top": null,
            "visibility": null,
            "width": null
          }
        },
        "1079f91412be4a35b98e9afdb92ba5f9": {
          "model_module": "@jupyter-widgets/controls",
          "model_name": "DescriptionStyleModel",
          "model_module_version": "1.5.0",
          "state": {
            "_model_module": "@jupyter-widgets/controls",
            "_model_module_version": "1.5.0",
            "_model_name": "DescriptionStyleModel",
            "_view_count": null,
            "_view_module": "@jupyter-widgets/base",
            "_view_module_version": "1.2.0",
            "_view_name": "StyleView",
            "description_width": ""
          }
        },
        "e8e3284335b34446b159f05dadedcfbd": {
          "model_module": "@jupyter-widgets/controls",
          "model_name": "HBoxModel",
          "model_module_version": "1.5.0",
          "state": {
            "_dom_classes": [],
            "_model_module": "@jupyter-widgets/controls",
            "_model_module_version": "1.5.0",
            "_model_name": "HBoxModel",
            "_view_count": null,
            "_view_module": "@jupyter-widgets/controls",
            "_view_module_version": "1.5.0",
            "_view_name": "HBoxView",
            "box_style": "",
            "children": [
              "IPY_MODEL_e7c8b711aea9497cb9b5ed59b1b18c7c",
              "IPY_MODEL_212a693bad9c4c6fa7d240d81f80c3cd",
              "IPY_MODEL_52c4d4286bf243198166c35c5341365d"
            ],
            "layout": "IPY_MODEL_cbfd7e3bbe4c4279952c1d0791ef1213"
          }
        },
        "e7c8b711aea9497cb9b5ed59b1b18c7c": {
          "model_module": "@jupyter-widgets/controls",
          "model_name": "HTMLModel",
          "model_module_version": "1.5.0",
          "state": {
            "_dom_classes": [],
            "_model_module": "@jupyter-widgets/controls",
            "_model_module_version": "1.5.0",
            "_model_name": "HTMLModel",
            "_view_count": null,
            "_view_module": "@jupyter-widgets/controls",
            "_view_module_version": "1.5.0",
            "_view_name": "HTMLView",
            "description": "",
            "description_tooltip": null,
            "layout": "IPY_MODEL_b020f78fd0be4ccea390cf72e711965c",
            "placeholder": "​",
            "style": "IPY_MODEL_a161307c396f4e5f98ffdc248fcdc897",
            "value": "100%"
          }
        },
        "212a693bad9c4c6fa7d240d81f80c3cd": {
          "model_module": "@jupyter-widgets/controls",
          "model_name": "FloatProgressModel",
          "model_module_version": "1.5.0",
          "state": {
            "_dom_classes": [],
            "_model_module": "@jupyter-widgets/controls",
            "_model_module_version": "1.5.0",
            "_model_name": "FloatProgressModel",
            "_view_count": null,
            "_view_module": "@jupyter-widgets/controls",
            "_view_module_version": "1.5.0",
            "_view_name": "ProgressView",
            "bar_style": "success",
            "description": "",
            "description_tooltip": null,
            "layout": "IPY_MODEL_3dd53cc5182742f08e024428c6e552c7",
            "max": 2,
            "min": 0,
            "orientation": "horizontal",
            "style": "IPY_MODEL_b65daf60559f47d4acd8b291bb3303a8",
            "value": 2
          }
        },
        "52c4d4286bf243198166c35c5341365d": {
          "model_module": "@jupyter-widgets/controls",
          "model_name": "HTMLModel",
          "model_module_version": "1.5.0",
          "state": {
            "_dom_classes": [],
            "_model_module": "@jupyter-widgets/controls",
            "_model_module_version": "1.5.0",
            "_model_name": "HTMLModel",
            "_view_count": null,
            "_view_module": "@jupyter-widgets/controls",
            "_view_module_version": "1.5.0",
            "_view_name": "HTMLView",
            "description": "",
            "description_tooltip": null,
            "layout": "IPY_MODEL_7719d4f9b87d48bd9bb0b277495552c0",
            "placeholder": "​",
            "style": "IPY_MODEL_a947cbf53ef34335b6a346980b6bf940",
            "value": " 2/2 [00:00&lt;00:00,  2.10it/s]"
          }
        },
        "cbfd7e3bbe4c4279952c1d0791ef1213": {
          "model_module": "@jupyter-widgets/base",
          "model_name": "LayoutModel",
          "model_module_version": "1.2.0",
          "state": {
            "_model_module": "@jupyter-widgets/base",
            "_model_module_version": "1.2.0",
            "_model_name": "LayoutModel",
            "_view_count": null,
            "_view_module": "@jupyter-widgets/base",
            "_view_module_version": "1.2.0",
            "_view_name": "LayoutView",
            "align_content": null,
            "align_items": null,
            "align_self": null,
            "border": null,
            "bottom": null,
            "display": null,
            "flex": null,
            "flex_flow": null,
            "grid_area": null,
            "grid_auto_columns": null,
            "grid_auto_flow": null,
            "grid_auto_rows": null,
            "grid_column": null,
            "grid_gap": null,
            "grid_row": null,
            "grid_template_areas": null,
            "grid_template_columns": null,
            "grid_template_rows": null,
            "height": null,
            "justify_content": null,
            "justify_items": null,
            "left": null,
            "margin": null,
            "max_height": null,
            "max_width": null,
            "min_height": null,
            "min_width": null,
            "object_fit": null,
            "object_position": null,
            "order": null,
            "overflow": null,
            "overflow_x": null,
            "overflow_y": null,
            "padding": null,
            "right": null,
            "top": null,
            "visibility": null,
            "width": null
          }
        },
        "b020f78fd0be4ccea390cf72e711965c": {
          "model_module": "@jupyter-widgets/base",
          "model_name": "LayoutModel",
          "model_module_version": "1.2.0",
          "state": {
            "_model_module": "@jupyter-widgets/base",
            "_model_module_version": "1.2.0",
            "_model_name": "LayoutModel",
            "_view_count": null,
            "_view_module": "@jupyter-widgets/base",
            "_view_module_version": "1.2.0",
            "_view_name": "LayoutView",
            "align_content": null,
            "align_items": null,
            "align_self": null,
            "border": null,
            "bottom": null,
            "display": null,
            "flex": null,
            "flex_flow": null,
            "grid_area": null,
            "grid_auto_columns": null,
            "grid_auto_flow": null,
            "grid_auto_rows": null,
            "grid_column": null,
            "grid_gap": null,
            "grid_row": null,
            "grid_template_areas": null,
            "grid_template_columns": null,
            "grid_template_rows": null,
            "height": null,
            "justify_content": null,
            "justify_items": null,
            "left": null,
            "margin": null,
            "max_height": null,
            "max_width": null,
            "min_height": null,
            "min_width": null,
            "object_fit": null,
            "object_position": null,
            "order": null,
            "overflow": null,
            "overflow_x": null,
            "overflow_y": null,
            "padding": null,
            "right": null,
            "top": null,
            "visibility": null,
            "width": null
          }
        },
        "a161307c396f4e5f98ffdc248fcdc897": {
          "model_module": "@jupyter-widgets/controls",
          "model_name": "DescriptionStyleModel",
          "model_module_version": "1.5.0",
          "state": {
            "_model_module": "@jupyter-widgets/controls",
            "_model_module_version": "1.5.0",
            "_model_name": "DescriptionStyleModel",
            "_view_count": null,
            "_view_module": "@jupyter-widgets/base",
            "_view_module_version": "1.2.0",
            "_view_name": "StyleView",
            "description_width": ""
          }
        },
        "3dd53cc5182742f08e024428c6e552c7": {
          "model_module": "@jupyter-widgets/base",
          "model_name": "LayoutModel",
          "model_module_version": "1.2.0",
          "state": {
            "_model_module": "@jupyter-widgets/base",
            "_model_module_version": "1.2.0",
            "_model_name": "LayoutModel",
            "_view_count": null,
            "_view_module": "@jupyter-widgets/base",
            "_view_module_version": "1.2.0",
            "_view_name": "LayoutView",
            "align_content": null,
            "align_items": null,
            "align_self": null,
            "border": null,
            "bottom": null,
            "display": null,
            "flex": null,
            "flex_flow": null,
            "grid_area": null,
            "grid_auto_columns": null,
            "grid_auto_flow": null,
            "grid_auto_rows": null,
            "grid_column": null,
            "grid_gap": null,
            "grid_row": null,
            "grid_template_areas": null,
            "grid_template_columns": null,
            "grid_template_rows": null,
            "height": null,
            "justify_content": null,
            "justify_items": null,
            "left": null,
            "margin": null,
            "max_height": null,
            "max_width": null,
            "min_height": null,
            "min_width": null,
            "object_fit": null,
            "object_position": null,
            "order": null,
            "overflow": null,
            "overflow_x": null,
            "overflow_y": null,
            "padding": null,
            "right": null,
            "top": null,
            "visibility": null,
            "width": null
          }
        },
        "b65daf60559f47d4acd8b291bb3303a8": {
          "model_module": "@jupyter-widgets/controls",
          "model_name": "ProgressStyleModel",
          "model_module_version": "1.5.0",
          "state": {
            "_model_module": "@jupyter-widgets/controls",
            "_model_module_version": "1.5.0",
            "_model_name": "ProgressStyleModel",
            "_view_count": null,
            "_view_module": "@jupyter-widgets/base",
            "_view_module_version": "1.2.0",
            "_view_name": "StyleView",
            "bar_color": null,
            "description_width": ""
          }
        },
        "7719d4f9b87d48bd9bb0b277495552c0": {
          "model_module": "@jupyter-widgets/base",
          "model_name": "LayoutModel",
          "model_module_version": "1.2.0",
          "state": {
            "_model_module": "@jupyter-widgets/base",
            "_model_module_version": "1.2.0",
            "_model_name": "LayoutModel",
            "_view_count": null,
            "_view_module": "@jupyter-widgets/base",
            "_view_module_version": "1.2.0",
            "_view_name": "LayoutView",
            "align_content": null,
            "align_items": null,
            "align_self": null,
            "border": null,
            "bottom": null,
            "display": null,
            "flex": null,
            "flex_flow": null,
            "grid_area": null,
            "grid_auto_columns": null,
            "grid_auto_flow": null,
            "grid_auto_rows": null,
            "grid_column": null,
            "grid_gap": null,
            "grid_row": null,
            "grid_template_areas": null,
            "grid_template_columns": null,
            "grid_template_rows": null,
            "height": null,
            "justify_content": null,
            "justify_items": null,
            "left": null,
            "margin": null,
            "max_height": null,
            "max_width": null,
            "min_height": null,
            "min_width": null,
            "object_fit": null,
            "object_position": null,
            "order": null,
            "overflow": null,
            "overflow_x": null,
            "overflow_y": null,
            "padding": null,
            "right": null,
            "top": null,
            "visibility": null,
            "width": null
          }
        },
        "a947cbf53ef34335b6a346980b6bf940": {
          "model_module": "@jupyter-widgets/controls",
          "model_name": "DescriptionStyleModel",
          "model_module_version": "1.5.0",
          "state": {
            "_model_module": "@jupyter-widgets/controls",
            "_model_module_version": "1.5.0",
            "_model_name": "DescriptionStyleModel",
            "_view_count": null,
            "_view_module": "@jupyter-widgets/base",
            "_view_module_version": "1.2.0",
            "_view_name": "StyleView",
            "description_width": ""
          }
        },
        "7b7bf089c2fb4be2a1bb470d49cdc040": {
          "model_module": "@jupyter-widgets/controls",
          "model_name": "HBoxModel",
          "model_module_version": "1.5.0",
          "state": {
            "_dom_classes": [],
            "_model_module": "@jupyter-widgets/controls",
            "_model_module_version": "1.5.0",
            "_model_name": "HBoxModel",
            "_view_count": null,
            "_view_module": "@jupyter-widgets/controls",
            "_view_module_version": "1.5.0",
            "_view_name": "HBoxView",
            "box_style": "",
            "children": [
              "IPY_MODEL_4914d19e9d6e4dad8200801dd03341d4",
              "IPY_MODEL_9220247c1e674143b8915d1af4b4f30b",
              "IPY_MODEL_ae4cde6aa3644b67b0485cb8e4e453d0"
            ],
            "layout": "IPY_MODEL_592ac0505fb549ddb02fefd8c59906a7"
          }
        },
        "4914d19e9d6e4dad8200801dd03341d4": {
          "model_module": "@jupyter-widgets/controls",
          "model_name": "HTMLModel",
          "model_module_version": "1.5.0",
          "state": {
            "_dom_classes": [],
            "_model_module": "@jupyter-widgets/controls",
            "_model_module_version": "1.5.0",
            "_model_name": "HTMLModel",
            "_view_count": null,
            "_view_module": "@jupyter-widgets/controls",
            "_view_module_version": "1.5.0",
            "_view_name": "HTMLView",
            "description": "",
            "description_tooltip": null,
            "layout": "IPY_MODEL_c06904cfd92341c08b05b6eaae4fa9a8",
            "placeholder": "​",
            "style": "IPY_MODEL_ebc280e066d44f1689045d4ba531b359",
            "value": "100%"
          }
        },
        "9220247c1e674143b8915d1af4b4f30b": {
          "model_module": "@jupyter-widgets/controls",
          "model_name": "FloatProgressModel",
          "model_module_version": "1.5.0",
          "state": {
            "_dom_classes": [],
            "_model_module": "@jupyter-widgets/controls",
            "_model_module_version": "1.5.0",
            "_model_name": "FloatProgressModel",
            "_view_count": null,
            "_view_module": "@jupyter-widgets/controls",
            "_view_module_version": "1.5.0",
            "_view_name": "ProgressView",
            "bar_style": "success",
            "description": "",
            "description_tooltip": null,
            "layout": "IPY_MODEL_607c437414164f98bd95c5f146232a6d",
            "max": 2,
            "min": 0,
            "orientation": "horizontal",
            "style": "IPY_MODEL_0281a21fc5264dfda9e8aa3b28e934f1",
            "value": 2
          }
        },
        "ae4cde6aa3644b67b0485cb8e4e453d0": {
          "model_module": "@jupyter-widgets/controls",
          "model_name": "HTMLModel",
          "model_module_version": "1.5.0",
          "state": {
            "_dom_classes": [],
            "_model_module": "@jupyter-widgets/controls",
            "_model_module_version": "1.5.0",
            "_model_name": "HTMLModel",
            "_view_count": null,
            "_view_module": "@jupyter-widgets/controls",
            "_view_module_version": "1.5.0",
            "_view_name": "HTMLView",
            "description": "",
            "description_tooltip": null,
            "layout": "IPY_MODEL_7b8ae03eef4c4de1b37e54646713fc84",
            "placeholder": "​",
            "style": "IPY_MODEL_e042c4a7c4284f23984d006bfb57f08f",
            "value": " 2/2 [00:00&lt;00:00,  3.48ba/s]"
          }
        },
        "592ac0505fb549ddb02fefd8c59906a7": {
          "model_module": "@jupyter-widgets/base",
          "model_name": "LayoutModel",
          "model_module_version": "1.2.0",
          "state": {
            "_model_module": "@jupyter-widgets/base",
            "_model_module_version": "1.2.0",
            "_model_name": "LayoutModel",
            "_view_count": null,
            "_view_module": "@jupyter-widgets/base",
            "_view_module_version": "1.2.0",
            "_view_name": "LayoutView",
            "align_content": null,
            "align_items": null,
            "align_self": null,
            "border": null,
            "bottom": null,
            "display": null,
            "flex": null,
            "flex_flow": null,
            "grid_area": null,
            "grid_auto_columns": null,
            "grid_auto_flow": null,
            "grid_auto_rows": null,
            "grid_column": null,
            "grid_gap": null,
            "grid_row": null,
            "grid_template_areas": null,
            "grid_template_columns": null,
            "grid_template_rows": null,
            "height": null,
            "justify_content": null,
            "justify_items": null,
            "left": null,
            "margin": null,
            "max_height": null,
            "max_width": null,
            "min_height": null,
            "min_width": null,
            "object_fit": null,
            "object_position": null,
            "order": null,
            "overflow": null,
            "overflow_x": null,
            "overflow_y": null,
            "padding": null,
            "right": null,
            "top": null,
            "visibility": null,
            "width": null
          }
        },
        "c06904cfd92341c08b05b6eaae4fa9a8": {
          "model_module": "@jupyter-widgets/base",
          "model_name": "LayoutModel",
          "model_module_version": "1.2.0",
          "state": {
            "_model_module": "@jupyter-widgets/base",
            "_model_module_version": "1.2.0",
            "_model_name": "LayoutModel",
            "_view_count": null,
            "_view_module": "@jupyter-widgets/base",
            "_view_module_version": "1.2.0",
            "_view_name": "LayoutView",
            "align_content": null,
            "align_items": null,
            "align_self": null,
            "border": null,
            "bottom": null,
            "display": null,
            "flex": null,
            "flex_flow": null,
            "grid_area": null,
            "grid_auto_columns": null,
            "grid_auto_flow": null,
            "grid_auto_rows": null,
            "grid_column": null,
            "grid_gap": null,
            "grid_row": null,
            "grid_template_areas": null,
            "grid_template_columns": null,
            "grid_template_rows": null,
            "height": null,
            "justify_content": null,
            "justify_items": null,
            "left": null,
            "margin": null,
            "max_height": null,
            "max_width": null,
            "min_height": null,
            "min_width": null,
            "object_fit": null,
            "object_position": null,
            "order": null,
            "overflow": null,
            "overflow_x": null,
            "overflow_y": null,
            "padding": null,
            "right": null,
            "top": null,
            "visibility": null,
            "width": null
          }
        },
        "ebc280e066d44f1689045d4ba531b359": {
          "model_module": "@jupyter-widgets/controls",
          "model_name": "DescriptionStyleModel",
          "model_module_version": "1.5.0",
          "state": {
            "_model_module": "@jupyter-widgets/controls",
            "_model_module_version": "1.5.0",
            "_model_name": "DescriptionStyleModel",
            "_view_count": null,
            "_view_module": "@jupyter-widgets/base",
            "_view_module_version": "1.2.0",
            "_view_name": "StyleView",
            "description_width": ""
          }
        },
        "607c437414164f98bd95c5f146232a6d": {
          "model_module": "@jupyter-widgets/base",
          "model_name": "LayoutModel",
          "model_module_version": "1.2.0",
          "state": {
            "_model_module": "@jupyter-widgets/base",
            "_model_module_version": "1.2.0",
            "_model_name": "LayoutModel",
            "_view_count": null,
            "_view_module": "@jupyter-widgets/base",
            "_view_module_version": "1.2.0",
            "_view_name": "LayoutView",
            "align_content": null,
            "align_items": null,
            "align_self": null,
            "border": null,
            "bottom": null,
            "display": null,
            "flex": null,
            "flex_flow": null,
            "grid_area": null,
            "grid_auto_columns": null,
            "grid_auto_flow": null,
            "grid_auto_rows": null,
            "grid_column": null,
            "grid_gap": null,
            "grid_row": null,
            "grid_template_areas": null,
            "grid_template_columns": null,
            "grid_template_rows": null,
            "height": null,
            "justify_content": null,
            "justify_items": null,
            "left": null,
            "margin": null,
            "max_height": null,
            "max_width": null,
            "min_height": null,
            "min_width": null,
            "object_fit": null,
            "object_position": null,
            "order": null,
            "overflow": null,
            "overflow_x": null,
            "overflow_y": null,
            "padding": null,
            "right": null,
            "top": null,
            "visibility": null,
            "width": null
          }
        },
        "0281a21fc5264dfda9e8aa3b28e934f1": {
          "model_module": "@jupyter-widgets/controls",
          "model_name": "ProgressStyleModel",
          "model_module_version": "1.5.0",
          "state": {
            "_model_module": "@jupyter-widgets/controls",
            "_model_module_version": "1.5.0",
            "_model_name": "ProgressStyleModel",
            "_view_count": null,
            "_view_module": "@jupyter-widgets/base",
            "_view_module_version": "1.2.0",
            "_view_name": "StyleView",
            "bar_color": null,
            "description_width": ""
          }
        },
        "7b8ae03eef4c4de1b37e54646713fc84": {
          "model_module": "@jupyter-widgets/base",
          "model_name": "LayoutModel",
          "model_module_version": "1.2.0",
          "state": {
            "_model_module": "@jupyter-widgets/base",
            "_model_module_version": "1.2.0",
            "_model_name": "LayoutModel",
            "_view_count": null,
            "_view_module": "@jupyter-widgets/base",
            "_view_module_version": "1.2.0",
            "_view_name": "LayoutView",
            "align_content": null,
            "align_items": null,
            "align_self": null,
            "border": null,
            "bottom": null,
            "display": null,
            "flex": null,
            "flex_flow": null,
            "grid_area": null,
            "grid_auto_columns": null,
            "grid_auto_flow": null,
            "grid_auto_rows": null,
            "grid_column": null,
            "grid_gap": null,
            "grid_row": null,
            "grid_template_areas": null,
            "grid_template_columns": null,
            "grid_template_rows": null,
            "height": null,
            "justify_content": null,
            "justify_items": null,
            "left": null,
            "margin": null,
            "max_height": null,
            "max_width": null,
            "min_height": null,
            "min_width": null,
            "object_fit": null,
            "object_position": null,
            "order": null,
            "overflow": null,
            "overflow_x": null,
            "overflow_y": null,
            "padding": null,
            "right": null,
            "top": null,
            "visibility": null,
            "width": null
          }
        },
        "e042c4a7c4284f23984d006bfb57f08f": {
          "model_module": "@jupyter-widgets/controls",
          "model_name": "DescriptionStyleModel",
          "model_module_version": "1.5.0",
          "state": {
            "_model_module": "@jupyter-widgets/controls",
            "_model_module_version": "1.5.0",
            "_model_name": "DescriptionStyleModel",
            "_view_count": null,
            "_view_module": "@jupyter-widgets/base",
            "_view_module_version": "1.2.0",
            "_view_name": "StyleView",
            "description_width": ""
          }
        },
        "8ff53f226582443697f767c9a62a786c": {
          "model_module": "@jupyter-widgets/controls",
          "model_name": "HBoxModel",
          "model_module_version": "1.5.0",
          "state": {
            "_dom_classes": [],
            "_model_module": "@jupyter-widgets/controls",
            "_model_module_version": "1.5.0",
            "_model_name": "HBoxModel",
            "_view_count": null,
            "_view_module": "@jupyter-widgets/controls",
            "_view_module_version": "1.5.0",
            "_view_name": "HBoxView",
            "box_style": "",
            "children": [
              "IPY_MODEL_0d04b740b27a4f2b8bfb95c8f9ab12ae",
              "IPY_MODEL_1fe92e61634b4888ace8ca67f7a17849",
              "IPY_MODEL_407f7f02668740e2beb43e752304b7ee"
            ],
            "layout": "IPY_MODEL_4ab1e486008145bb9e3f4b41256df8e5"
          }
        },
        "0d04b740b27a4f2b8bfb95c8f9ab12ae": {
          "model_module": "@jupyter-widgets/controls",
          "model_name": "HTMLModel",
          "model_module_version": "1.5.0",
          "state": {
            "_dom_classes": [],
            "_model_module": "@jupyter-widgets/controls",
            "_model_module_version": "1.5.0",
            "_model_name": "HTMLModel",
            "_view_count": null,
            "_view_module": "@jupyter-widgets/controls",
            "_view_module_version": "1.5.0",
            "_view_name": "HTMLView",
            "description": "",
            "description_tooltip": null,
            "layout": "IPY_MODEL_09e031780eee445190ec8923e3e377a7",
            "placeholder": "​",
            "style": "IPY_MODEL_3de0d89c69454d188c32e82215d84e37",
            "value": "100%"
          }
        },
        "1fe92e61634b4888ace8ca67f7a17849": {
          "model_module": "@jupyter-widgets/controls",
          "model_name": "FloatProgressModel",
          "model_module_version": "1.5.0",
          "state": {
            "_dom_classes": [],
            "_model_module": "@jupyter-widgets/controls",
            "_model_module_version": "1.5.0",
            "_model_name": "FloatProgressModel",
            "_view_count": null,
            "_view_module": "@jupyter-widgets/controls",
            "_view_module_version": "1.5.0",
            "_view_name": "ProgressView",
            "bar_style": "success",
            "description": "",
            "description_tooltip": null,
            "layout": "IPY_MODEL_ed93589f12c44a8086c1c0c4fc5f0c7c",
            "max": 1,
            "min": 0,
            "orientation": "horizontal",
            "style": "IPY_MODEL_36ddd668e7414324805f4439b678f060",
            "value": 1
          }
        },
        "407f7f02668740e2beb43e752304b7ee": {
          "model_module": "@jupyter-widgets/controls",
          "model_name": "HTMLModel",
          "model_module_version": "1.5.0",
          "state": {
            "_dom_classes": [],
            "_model_module": "@jupyter-widgets/controls",
            "_model_module_version": "1.5.0",
            "_model_name": "HTMLModel",
            "_view_count": null,
            "_view_module": "@jupyter-widgets/controls",
            "_view_module_version": "1.5.0",
            "_view_name": "HTMLView",
            "description": "",
            "description_tooltip": null,
            "layout": "IPY_MODEL_939c2f3959ee49b4b57a1873d934b0be",
            "placeholder": "​",
            "style": "IPY_MODEL_fd2dd62a3e4e4a8d8956f456889b3042",
            "value": " 1/1 [00:00&lt;00:00,  3.19ba/s]"
          }
        },
        "4ab1e486008145bb9e3f4b41256df8e5": {
          "model_module": "@jupyter-widgets/base",
          "model_name": "LayoutModel",
          "model_module_version": "1.2.0",
          "state": {
            "_model_module": "@jupyter-widgets/base",
            "_model_module_version": "1.2.0",
            "_model_name": "LayoutModel",
            "_view_count": null,
            "_view_module": "@jupyter-widgets/base",
            "_view_module_version": "1.2.0",
            "_view_name": "LayoutView",
            "align_content": null,
            "align_items": null,
            "align_self": null,
            "border": null,
            "bottom": null,
            "display": null,
            "flex": null,
            "flex_flow": null,
            "grid_area": null,
            "grid_auto_columns": null,
            "grid_auto_flow": null,
            "grid_auto_rows": null,
            "grid_column": null,
            "grid_gap": null,
            "grid_row": null,
            "grid_template_areas": null,
            "grid_template_columns": null,
            "grid_template_rows": null,
            "height": null,
            "justify_content": null,
            "justify_items": null,
            "left": null,
            "margin": null,
            "max_height": null,
            "max_width": null,
            "min_height": null,
            "min_width": null,
            "object_fit": null,
            "object_position": null,
            "order": null,
            "overflow": null,
            "overflow_x": null,
            "overflow_y": null,
            "padding": null,
            "right": null,
            "top": null,
            "visibility": null,
            "width": null
          }
        },
        "09e031780eee445190ec8923e3e377a7": {
          "model_module": "@jupyter-widgets/base",
          "model_name": "LayoutModel",
          "model_module_version": "1.2.0",
          "state": {
            "_model_module": "@jupyter-widgets/base",
            "_model_module_version": "1.2.0",
            "_model_name": "LayoutModel",
            "_view_count": null,
            "_view_module": "@jupyter-widgets/base",
            "_view_module_version": "1.2.0",
            "_view_name": "LayoutView",
            "align_content": null,
            "align_items": null,
            "align_self": null,
            "border": null,
            "bottom": null,
            "display": null,
            "flex": null,
            "flex_flow": null,
            "grid_area": null,
            "grid_auto_columns": null,
            "grid_auto_flow": null,
            "grid_auto_rows": null,
            "grid_column": null,
            "grid_gap": null,
            "grid_row": null,
            "grid_template_areas": null,
            "grid_template_columns": null,
            "grid_template_rows": null,
            "height": null,
            "justify_content": null,
            "justify_items": null,
            "left": null,
            "margin": null,
            "max_height": null,
            "max_width": null,
            "min_height": null,
            "min_width": null,
            "object_fit": null,
            "object_position": null,
            "order": null,
            "overflow": null,
            "overflow_x": null,
            "overflow_y": null,
            "padding": null,
            "right": null,
            "top": null,
            "visibility": null,
            "width": null
          }
        },
        "3de0d89c69454d188c32e82215d84e37": {
          "model_module": "@jupyter-widgets/controls",
          "model_name": "DescriptionStyleModel",
          "model_module_version": "1.5.0",
          "state": {
            "_model_module": "@jupyter-widgets/controls",
            "_model_module_version": "1.5.0",
            "_model_name": "DescriptionStyleModel",
            "_view_count": null,
            "_view_module": "@jupyter-widgets/base",
            "_view_module_version": "1.2.0",
            "_view_name": "StyleView",
            "description_width": ""
          }
        },
        "ed93589f12c44a8086c1c0c4fc5f0c7c": {
          "model_module": "@jupyter-widgets/base",
          "model_name": "LayoutModel",
          "model_module_version": "1.2.0",
          "state": {
            "_model_module": "@jupyter-widgets/base",
            "_model_module_version": "1.2.0",
            "_model_name": "LayoutModel",
            "_view_count": null,
            "_view_module": "@jupyter-widgets/base",
            "_view_module_version": "1.2.0",
            "_view_name": "LayoutView",
            "align_content": null,
            "align_items": null,
            "align_self": null,
            "border": null,
            "bottom": null,
            "display": null,
            "flex": null,
            "flex_flow": null,
            "grid_area": null,
            "grid_auto_columns": null,
            "grid_auto_flow": null,
            "grid_auto_rows": null,
            "grid_column": null,
            "grid_gap": null,
            "grid_row": null,
            "grid_template_areas": null,
            "grid_template_columns": null,
            "grid_template_rows": null,
            "height": null,
            "justify_content": null,
            "justify_items": null,
            "left": null,
            "margin": null,
            "max_height": null,
            "max_width": null,
            "min_height": null,
            "min_width": null,
            "object_fit": null,
            "object_position": null,
            "order": null,
            "overflow": null,
            "overflow_x": null,
            "overflow_y": null,
            "padding": null,
            "right": null,
            "top": null,
            "visibility": null,
            "width": null
          }
        },
        "36ddd668e7414324805f4439b678f060": {
          "model_module": "@jupyter-widgets/controls",
          "model_name": "ProgressStyleModel",
          "model_module_version": "1.5.0",
          "state": {
            "_model_module": "@jupyter-widgets/controls",
            "_model_module_version": "1.5.0",
            "_model_name": "ProgressStyleModel",
            "_view_count": null,
            "_view_module": "@jupyter-widgets/base",
            "_view_module_version": "1.2.0",
            "_view_name": "StyleView",
            "bar_color": null,
            "description_width": ""
          }
        },
        "939c2f3959ee49b4b57a1873d934b0be": {
          "model_module": "@jupyter-widgets/base",
          "model_name": "LayoutModel",
          "model_module_version": "1.2.0",
          "state": {
            "_model_module": "@jupyter-widgets/base",
            "_model_module_version": "1.2.0",
            "_model_name": "LayoutModel",
            "_view_count": null,
            "_view_module": "@jupyter-widgets/base",
            "_view_module_version": "1.2.0",
            "_view_name": "LayoutView",
            "align_content": null,
            "align_items": null,
            "align_self": null,
            "border": null,
            "bottom": null,
            "display": null,
            "flex": null,
            "flex_flow": null,
            "grid_area": null,
            "grid_auto_columns": null,
            "grid_auto_flow": null,
            "grid_auto_rows": null,
            "grid_column": null,
            "grid_gap": null,
            "grid_row": null,
            "grid_template_areas": null,
            "grid_template_columns": null,
            "grid_template_rows": null,
            "height": null,
            "justify_content": null,
            "justify_items": null,
            "left": null,
            "margin": null,
            "max_height": null,
            "max_width": null,
            "min_height": null,
            "min_width": null,
            "object_fit": null,
            "object_position": null,
            "order": null,
            "overflow": null,
            "overflow_x": null,
            "overflow_y": null,
            "padding": null,
            "right": null,
            "top": null,
            "visibility": null,
            "width": null
          }
        },
        "fd2dd62a3e4e4a8d8956f456889b3042": {
          "model_module": "@jupyter-widgets/controls",
          "model_name": "DescriptionStyleModel",
          "model_module_version": "1.5.0",
          "state": {
            "_model_module": "@jupyter-widgets/controls",
            "_model_module_version": "1.5.0",
            "_model_name": "DescriptionStyleModel",
            "_view_count": null,
            "_view_module": "@jupyter-widgets/base",
            "_view_module_version": "1.2.0",
            "_view_name": "StyleView",
            "description_width": ""
          }
        },
        "ad290e1afc0e4ac9ab753b2220cef164": {
          "model_module": "@jupyter-widgets/controls",
          "model_name": "HBoxModel",
          "model_module_version": "1.5.0",
          "state": {
            "_dom_classes": [],
            "_model_module": "@jupyter-widgets/controls",
            "_model_module_version": "1.5.0",
            "_model_name": "HBoxModel",
            "_view_count": null,
            "_view_module": "@jupyter-widgets/controls",
            "_view_module_version": "1.5.0",
            "_view_name": "HBoxView",
            "box_style": "",
            "children": [
              "IPY_MODEL_8141e7e6b0934df7baea1d32ecc8734d",
              "IPY_MODEL_8e33ccc2257c445f95f5be235d93399d",
              "IPY_MODEL_e0995cb4f6ba40a2a385d36c393af9b1"
            ],
            "layout": "IPY_MODEL_b376f3c105124845a6c8fb440ea6a7f4"
          }
        },
        "8141e7e6b0934df7baea1d32ecc8734d": {
          "model_module": "@jupyter-widgets/controls",
          "model_name": "HTMLModel",
          "model_module_version": "1.5.0",
          "state": {
            "_dom_classes": [],
            "_model_module": "@jupyter-widgets/controls",
            "_model_module_version": "1.5.0",
            "_model_name": "HTMLModel",
            "_view_count": null,
            "_view_module": "@jupyter-widgets/controls",
            "_view_module_version": "1.5.0",
            "_view_name": "HTMLView",
            "description": "",
            "description_tooltip": null,
            "layout": "IPY_MODEL_2877caa12eb84e459a3c0544b52ca266",
            "placeholder": "​",
            "style": "IPY_MODEL_d3b4d1f450c04868bd221141cdcaec75",
            "value": "100%"
          }
        },
        "8e33ccc2257c445f95f5be235d93399d": {
          "model_module": "@jupyter-widgets/controls",
          "model_name": "FloatProgressModel",
          "model_module_version": "1.5.0",
          "state": {
            "_dom_classes": [],
            "_model_module": "@jupyter-widgets/controls",
            "_model_module_version": "1.5.0",
            "_model_name": "FloatProgressModel",
            "_view_count": null,
            "_view_module": "@jupyter-widgets/controls",
            "_view_module_version": "1.5.0",
            "_view_name": "ProgressView",
            "bar_style": "success",
            "description": "",
            "description_tooltip": null,
            "layout": "IPY_MODEL_eca089a4df544126b2d6fe3dfdc1a422",
            "max": 4,
            "min": 0,
            "orientation": "horizontal",
            "style": "IPY_MODEL_f73ebffff74e43818186dd56cec41253",
            "value": 4
          }
        },
        "e0995cb4f6ba40a2a385d36c393af9b1": {
          "model_module": "@jupyter-widgets/controls",
          "model_name": "HTMLModel",
          "model_module_version": "1.5.0",
          "state": {
            "_dom_classes": [],
            "_model_module": "@jupyter-widgets/controls",
            "_model_module_version": "1.5.0",
            "_model_name": "HTMLModel",
            "_view_count": null,
            "_view_module": "@jupyter-widgets/controls",
            "_view_module_version": "1.5.0",
            "_view_name": "HTMLView",
            "description": "",
            "description_tooltip": null,
            "layout": "IPY_MODEL_802c990b14394300a251758952464d35",
            "placeholder": "​",
            "style": "IPY_MODEL_7dd20f3187d740c8bf0d6d20409e6a29",
            "value": " 4/4 [00:01&lt;00:00,  3.32ba/s]"
          }
        },
        "b376f3c105124845a6c8fb440ea6a7f4": {
          "model_module": "@jupyter-widgets/base",
          "model_name": "LayoutModel",
          "model_module_version": "1.2.0",
          "state": {
            "_model_module": "@jupyter-widgets/base",
            "_model_module_version": "1.2.0",
            "_model_name": "LayoutModel",
            "_view_count": null,
            "_view_module": "@jupyter-widgets/base",
            "_view_module_version": "1.2.0",
            "_view_name": "LayoutView",
            "align_content": null,
            "align_items": null,
            "align_self": null,
            "border": null,
            "bottom": null,
            "display": null,
            "flex": null,
            "flex_flow": null,
            "grid_area": null,
            "grid_auto_columns": null,
            "grid_auto_flow": null,
            "grid_auto_rows": null,
            "grid_column": null,
            "grid_gap": null,
            "grid_row": null,
            "grid_template_areas": null,
            "grid_template_columns": null,
            "grid_template_rows": null,
            "height": null,
            "justify_content": null,
            "justify_items": null,
            "left": null,
            "margin": null,
            "max_height": null,
            "max_width": null,
            "min_height": null,
            "min_width": null,
            "object_fit": null,
            "object_position": null,
            "order": null,
            "overflow": null,
            "overflow_x": null,
            "overflow_y": null,
            "padding": null,
            "right": null,
            "top": null,
            "visibility": null,
            "width": null
          }
        },
        "2877caa12eb84e459a3c0544b52ca266": {
          "model_module": "@jupyter-widgets/base",
          "model_name": "LayoutModel",
          "model_module_version": "1.2.0",
          "state": {
            "_model_module": "@jupyter-widgets/base",
            "_model_module_version": "1.2.0",
            "_model_name": "LayoutModel",
            "_view_count": null,
            "_view_module": "@jupyter-widgets/base",
            "_view_module_version": "1.2.0",
            "_view_name": "LayoutView",
            "align_content": null,
            "align_items": null,
            "align_self": null,
            "border": null,
            "bottom": null,
            "display": null,
            "flex": null,
            "flex_flow": null,
            "grid_area": null,
            "grid_auto_columns": null,
            "grid_auto_flow": null,
            "grid_auto_rows": null,
            "grid_column": null,
            "grid_gap": null,
            "grid_row": null,
            "grid_template_areas": null,
            "grid_template_columns": null,
            "grid_template_rows": null,
            "height": null,
            "justify_content": null,
            "justify_items": null,
            "left": null,
            "margin": null,
            "max_height": null,
            "max_width": null,
            "min_height": null,
            "min_width": null,
            "object_fit": null,
            "object_position": null,
            "order": null,
            "overflow": null,
            "overflow_x": null,
            "overflow_y": null,
            "padding": null,
            "right": null,
            "top": null,
            "visibility": null,
            "width": null
          }
        },
        "d3b4d1f450c04868bd221141cdcaec75": {
          "model_module": "@jupyter-widgets/controls",
          "model_name": "DescriptionStyleModel",
          "model_module_version": "1.5.0",
          "state": {
            "_model_module": "@jupyter-widgets/controls",
            "_model_module_version": "1.5.0",
            "_model_name": "DescriptionStyleModel",
            "_view_count": null,
            "_view_module": "@jupyter-widgets/base",
            "_view_module_version": "1.2.0",
            "_view_name": "StyleView",
            "description_width": ""
          }
        },
        "eca089a4df544126b2d6fe3dfdc1a422": {
          "model_module": "@jupyter-widgets/base",
          "model_name": "LayoutModel",
          "model_module_version": "1.2.0",
          "state": {
            "_model_module": "@jupyter-widgets/base",
            "_model_module_version": "1.2.0",
            "_model_name": "LayoutModel",
            "_view_count": null,
            "_view_module": "@jupyter-widgets/base",
            "_view_module_version": "1.2.0",
            "_view_name": "LayoutView",
            "align_content": null,
            "align_items": null,
            "align_self": null,
            "border": null,
            "bottom": null,
            "display": null,
            "flex": null,
            "flex_flow": null,
            "grid_area": null,
            "grid_auto_columns": null,
            "grid_auto_flow": null,
            "grid_auto_rows": null,
            "grid_column": null,
            "grid_gap": null,
            "grid_row": null,
            "grid_template_areas": null,
            "grid_template_columns": null,
            "grid_template_rows": null,
            "height": null,
            "justify_content": null,
            "justify_items": null,
            "left": null,
            "margin": null,
            "max_height": null,
            "max_width": null,
            "min_height": null,
            "min_width": null,
            "object_fit": null,
            "object_position": null,
            "order": null,
            "overflow": null,
            "overflow_x": null,
            "overflow_y": null,
            "padding": null,
            "right": null,
            "top": null,
            "visibility": null,
            "width": null
          }
        },
        "f73ebffff74e43818186dd56cec41253": {
          "model_module": "@jupyter-widgets/controls",
          "model_name": "ProgressStyleModel",
          "model_module_version": "1.5.0",
          "state": {
            "_model_module": "@jupyter-widgets/controls",
            "_model_module_version": "1.5.0",
            "_model_name": "ProgressStyleModel",
            "_view_count": null,
            "_view_module": "@jupyter-widgets/base",
            "_view_module_version": "1.2.0",
            "_view_name": "StyleView",
            "bar_color": null,
            "description_width": ""
          }
        },
        "802c990b14394300a251758952464d35": {
          "model_module": "@jupyter-widgets/base",
          "model_name": "LayoutModel",
          "model_module_version": "1.2.0",
          "state": {
            "_model_module": "@jupyter-widgets/base",
            "_model_module_version": "1.2.0",
            "_model_name": "LayoutModel",
            "_view_count": null,
            "_view_module": "@jupyter-widgets/base",
            "_view_module_version": "1.2.0",
            "_view_name": "LayoutView",
            "align_content": null,
            "align_items": null,
            "align_self": null,
            "border": null,
            "bottom": null,
            "display": null,
            "flex": null,
            "flex_flow": null,
            "grid_area": null,
            "grid_auto_columns": null,
            "grid_auto_flow": null,
            "grid_auto_rows": null,
            "grid_column": null,
            "grid_gap": null,
            "grid_row": null,
            "grid_template_areas": null,
            "grid_template_columns": null,
            "grid_template_rows": null,
            "height": null,
            "justify_content": null,
            "justify_items": null,
            "left": null,
            "margin": null,
            "max_height": null,
            "max_width": null,
            "min_height": null,
            "min_width": null,
            "object_fit": null,
            "object_position": null,
            "order": null,
            "overflow": null,
            "overflow_x": null,
            "overflow_y": null,
            "padding": null,
            "right": null,
            "top": null,
            "visibility": null,
            "width": null
          }
        },
        "7dd20f3187d740c8bf0d6d20409e6a29": {
          "model_module": "@jupyter-widgets/controls",
          "model_name": "DescriptionStyleModel",
          "model_module_version": "1.5.0",
          "state": {
            "_model_module": "@jupyter-widgets/controls",
            "_model_module_version": "1.5.0",
            "_model_name": "DescriptionStyleModel",
            "_view_count": null,
            "_view_module": "@jupyter-widgets/base",
            "_view_module_version": "1.2.0",
            "_view_name": "StyleView",
            "description_width": ""
          }
        },
        "9951c5e072854d38ac461d97ae79a5bd": {
          "model_module": "@jupyter-widgets/controls",
          "model_name": "HBoxModel",
          "model_module_version": "1.5.0",
          "state": {
            "_dom_classes": [],
            "_model_module": "@jupyter-widgets/controls",
            "_model_module_version": "1.5.0",
            "_model_name": "HBoxModel",
            "_view_count": null,
            "_view_module": "@jupyter-widgets/controls",
            "_view_module_version": "1.5.0",
            "_view_name": "HBoxView",
            "box_style": "",
            "children": [
              "IPY_MODEL_28fbef2d6a904ec89a54c1a95ba74b03",
              "IPY_MODEL_3c9a266b5c1842bd874af524b210ed0d",
              "IPY_MODEL_2eda08efac7c4050ac82947e816cf5f3"
            ],
            "layout": "IPY_MODEL_b927d218bde54d1a9ca981b2ac24fc67"
          }
        },
        "28fbef2d6a904ec89a54c1a95ba74b03": {
          "model_module": "@jupyter-widgets/controls",
          "model_name": "HTMLModel",
          "model_module_version": "1.5.0",
          "state": {
            "_dom_classes": [],
            "_model_module": "@jupyter-widgets/controls",
            "_model_module_version": "1.5.0",
            "_model_name": "HTMLModel",
            "_view_count": null,
            "_view_module": "@jupyter-widgets/controls",
            "_view_module_version": "1.5.0",
            "_view_name": "HTMLView",
            "description": "",
            "description_tooltip": null,
            "layout": "IPY_MODEL_298c5e72ed114984943be6703c1596c5",
            "placeholder": "​",
            "style": "IPY_MODEL_97db7b827a1b4c83b3d46e6673a1db28",
            "value": "100%"
          }
        },
        "3c9a266b5c1842bd874af524b210ed0d": {
          "model_module": "@jupyter-widgets/controls",
          "model_name": "FloatProgressModel",
          "model_module_version": "1.5.0",
          "state": {
            "_dom_classes": [],
            "_model_module": "@jupyter-widgets/controls",
            "_model_module_version": "1.5.0",
            "_model_name": "FloatProgressModel",
            "_view_count": null,
            "_view_module": "@jupyter-widgets/controls",
            "_view_module_version": "1.5.0",
            "_view_name": "ProgressView",
            "bar_style": "success",
            "description": "",
            "description_tooltip": null,
            "layout": "IPY_MODEL_d8dd0bed285c4cba8186064ddbd616b4",
            "max": 2,
            "min": 0,
            "orientation": "horizontal",
            "style": "IPY_MODEL_e8a103c01cef4ae2b090944c4aa8a857",
            "value": 2
          }
        },
        "2eda08efac7c4050ac82947e816cf5f3": {
          "model_module": "@jupyter-widgets/controls",
          "model_name": "HTMLModel",
          "model_module_version": "1.5.0",
          "state": {
            "_dom_classes": [],
            "_model_module": "@jupyter-widgets/controls",
            "_model_module_version": "1.5.0",
            "_model_name": "HTMLModel",
            "_view_count": null,
            "_view_module": "@jupyter-widgets/controls",
            "_view_module_version": "1.5.0",
            "_view_name": "HTMLView",
            "description": "",
            "description_tooltip": null,
            "layout": "IPY_MODEL_1f6d784ab9b442e4a7ac77b6fc2aa9ce",
            "placeholder": "​",
            "style": "IPY_MODEL_d83308823ebf424296bb67c4c10a6941",
            "value": " 2/2 [00:01&lt;00:00,  1.91ba/s]"
          }
        },
        "b927d218bde54d1a9ca981b2ac24fc67": {
          "model_module": "@jupyter-widgets/base",
          "model_name": "LayoutModel",
          "model_module_version": "1.2.0",
          "state": {
            "_model_module": "@jupyter-widgets/base",
            "_model_module_version": "1.2.0",
            "_model_name": "LayoutModel",
            "_view_count": null,
            "_view_module": "@jupyter-widgets/base",
            "_view_module_version": "1.2.0",
            "_view_name": "LayoutView",
            "align_content": null,
            "align_items": null,
            "align_self": null,
            "border": null,
            "bottom": null,
            "display": null,
            "flex": null,
            "flex_flow": null,
            "grid_area": null,
            "grid_auto_columns": null,
            "grid_auto_flow": null,
            "grid_auto_rows": null,
            "grid_column": null,
            "grid_gap": null,
            "grid_row": null,
            "grid_template_areas": null,
            "grid_template_columns": null,
            "grid_template_rows": null,
            "height": null,
            "justify_content": null,
            "justify_items": null,
            "left": null,
            "margin": null,
            "max_height": null,
            "max_width": null,
            "min_height": null,
            "min_width": null,
            "object_fit": null,
            "object_position": null,
            "order": null,
            "overflow": null,
            "overflow_x": null,
            "overflow_y": null,
            "padding": null,
            "right": null,
            "top": null,
            "visibility": null,
            "width": null
          }
        },
        "298c5e72ed114984943be6703c1596c5": {
          "model_module": "@jupyter-widgets/base",
          "model_name": "LayoutModel",
          "model_module_version": "1.2.0",
          "state": {
            "_model_module": "@jupyter-widgets/base",
            "_model_module_version": "1.2.0",
            "_model_name": "LayoutModel",
            "_view_count": null,
            "_view_module": "@jupyter-widgets/base",
            "_view_module_version": "1.2.0",
            "_view_name": "LayoutView",
            "align_content": null,
            "align_items": null,
            "align_self": null,
            "border": null,
            "bottom": null,
            "display": null,
            "flex": null,
            "flex_flow": null,
            "grid_area": null,
            "grid_auto_columns": null,
            "grid_auto_flow": null,
            "grid_auto_rows": null,
            "grid_column": null,
            "grid_gap": null,
            "grid_row": null,
            "grid_template_areas": null,
            "grid_template_columns": null,
            "grid_template_rows": null,
            "height": null,
            "justify_content": null,
            "justify_items": null,
            "left": null,
            "margin": null,
            "max_height": null,
            "max_width": null,
            "min_height": null,
            "min_width": null,
            "object_fit": null,
            "object_position": null,
            "order": null,
            "overflow": null,
            "overflow_x": null,
            "overflow_y": null,
            "padding": null,
            "right": null,
            "top": null,
            "visibility": null,
            "width": null
          }
        },
        "97db7b827a1b4c83b3d46e6673a1db28": {
          "model_module": "@jupyter-widgets/controls",
          "model_name": "DescriptionStyleModel",
          "model_module_version": "1.5.0",
          "state": {
            "_model_module": "@jupyter-widgets/controls",
            "_model_module_version": "1.5.0",
            "_model_name": "DescriptionStyleModel",
            "_view_count": null,
            "_view_module": "@jupyter-widgets/base",
            "_view_module_version": "1.2.0",
            "_view_name": "StyleView",
            "description_width": ""
          }
        },
        "d8dd0bed285c4cba8186064ddbd616b4": {
          "model_module": "@jupyter-widgets/base",
          "model_name": "LayoutModel",
          "model_module_version": "1.2.0",
          "state": {
            "_model_module": "@jupyter-widgets/base",
            "_model_module_version": "1.2.0",
            "_model_name": "LayoutModel",
            "_view_count": null,
            "_view_module": "@jupyter-widgets/base",
            "_view_module_version": "1.2.0",
            "_view_name": "LayoutView",
            "align_content": null,
            "align_items": null,
            "align_self": null,
            "border": null,
            "bottom": null,
            "display": null,
            "flex": null,
            "flex_flow": null,
            "grid_area": null,
            "grid_auto_columns": null,
            "grid_auto_flow": null,
            "grid_auto_rows": null,
            "grid_column": null,
            "grid_gap": null,
            "grid_row": null,
            "grid_template_areas": null,
            "grid_template_columns": null,
            "grid_template_rows": null,
            "height": null,
            "justify_content": null,
            "justify_items": null,
            "left": null,
            "margin": null,
            "max_height": null,
            "max_width": null,
            "min_height": null,
            "min_width": null,
            "object_fit": null,
            "object_position": null,
            "order": null,
            "overflow": null,
            "overflow_x": null,
            "overflow_y": null,
            "padding": null,
            "right": null,
            "top": null,
            "visibility": null,
            "width": null
          }
        },
        "e8a103c01cef4ae2b090944c4aa8a857": {
          "model_module": "@jupyter-widgets/controls",
          "model_name": "ProgressStyleModel",
          "model_module_version": "1.5.0",
          "state": {
            "_model_module": "@jupyter-widgets/controls",
            "_model_module_version": "1.5.0",
            "_model_name": "ProgressStyleModel",
            "_view_count": null,
            "_view_module": "@jupyter-widgets/base",
            "_view_module_version": "1.2.0",
            "_view_name": "StyleView",
            "bar_color": null,
            "description_width": ""
          }
        },
        "1f6d784ab9b442e4a7ac77b6fc2aa9ce": {
          "model_module": "@jupyter-widgets/base",
          "model_name": "LayoutModel",
          "model_module_version": "1.2.0",
          "state": {
            "_model_module": "@jupyter-widgets/base",
            "_model_module_version": "1.2.0",
            "_model_name": "LayoutModel",
            "_view_count": null,
            "_view_module": "@jupyter-widgets/base",
            "_view_module_version": "1.2.0",
            "_view_name": "LayoutView",
            "align_content": null,
            "align_items": null,
            "align_self": null,
            "border": null,
            "bottom": null,
            "display": null,
            "flex": null,
            "flex_flow": null,
            "grid_area": null,
            "grid_auto_columns": null,
            "grid_auto_flow": null,
            "grid_auto_rows": null,
            "grid_column": null,
            "grid_gap": null,
            "grid_row": null,
            "grid_template_areas": null,
            "grid_template_columns": null,
            "grid_template_rows": null,
            "height": null,
            "justify_content": null,
            "justify_items": null,
            "left": null,
            "margin": null,
            "max_height": null,
            "max_width": null,
            "min_height": null,
            "min_width": null,
            "object_fit": null,
            "object_position": null,
            "order": null,
            "overflow": null,
            "overflow_x": null,
            "overflow_y": null,
            "padding": null,
            "right": null,
            "top": null,
            "visibility": null,
            "width": null
          }
        },
        "d83308823ebf424296bb67c4c10a6941": {
          "model_module": "@jupyter-widgets/controls",
          "model_name": "DescriptionStyleModel",
          "model_module_version": "1.5.0",
          "state": {
            "_model_module": "@jupyter-widgets/controls",
            "_model_module_version": "1.5.0",
            "_model_name": "DescriptionStyleModel",
            "_view_count": null,
            "_view_module": "@jupyter-widgets/base",
            "_view_module_version": "1.2.0",
            "_view_name": "StyleView",
            "description_width": ""
          }
        },
        "6884b17024794d4d9e0e9b2efce8bb31": {
          "model_module": "@jupyter-widgets/controls",
          "model_name": "HBoxModel",
          "model_module_version": "1.5.0",
          "state": {
            "_dom_classes": [],
            "_model_module": "@jupyter-widgets/controls",
            "_model_module_version": "1.5.0",
            "_model_name": "HBoxModel",
            "_view_count": null,
            "_view_module": "@jupyter-widgets/controls",
            "_view_module_version": "1.5.0",
            "_view_name": "HBoxView",
            "box_style": "",
            "children": [
              "IPY_MODEL_adeb090e98e14472af8d6e5cbdb5652d",
              "IPY_MODEL_23177cf71c354831b1a528f6e8b82291",
              "IPY_MODEL_4a93ce80459c492abff5119d59e5403f"
            ],
            "layout": "IPY_MODEL_d65dd3cb9bdb4bf58df59e32b0695a5e"
          }
        },
        "adeb090e98e14472af8d6e5cbdb5652d": {
          "model_module": "@jupyter-widgets/controls",
          "model_name": "HTMLModel",
          "model_module_version": "1.5.0",
          "state": {
            "_dom_classes": [],
            "_model_module": "@jupyter-widgets/controls",
            "_model_module_version": "1.5.0",
            "_model_name": "HTMLModel",
            "_view_count": null,
            "_view_module": "@jupyter-widgets/controls",
            "_view_module_version": "1.5.0",
            "_view_name": "HTMLView",
            "description": "",
            "description_tooltip": null,
            "layout": "IPY_MODEL_e3997df15f3747efa654b3597f06e9c5",
            "placeholder": "​",
            "style": "IPY_MODEL_14614855b6a94d098eda2b00d85d317e",
            "value": "100%"
          }
        },
        "23177cf71c354831b1a528f6e8b82291": {
          "model_module": "@jupyter-widgets/controls",
          "model_name": "FloatProgressModel",
          "model_module_version": "1.5.0",
          "state": {
            "_dom_classes": [],
            "_model_module": "@jupyter-widgets/controls",
            "_model_module_version": "1.5.0",
            "_model_name": "FloatProgressModel",
            "_view_count": null,
            "_view_module": "@jupyter-widgets/controls",
            "_view_module_version": "1.5.0",
            "_view_name": "ProgressView",
            "bar_style": "",
            "description": "",
            "description_tooltip": null,
            "layout": "IPY_MODEL_51a44b94700c42a1ab3119108d325770",
            "max": 186,
            "min": 0,
            "orientation": "horizontal",
            "style": "IPY_MODEL_a3326cbde6744d90a118b517e8d29c43",
            "value": 186
          }
        },
        "4a93ce80459c492abff5119d59e5403f": {
          "model_module": "@jupyter-widgets/controls",
          "model_name": "HTMLModel",
          "model_module_version": "1.5.0",
          "state": {
            "_dom_classes": [],
            "_model_module": "@jupyter-widgets/controls",
            "_model_module_version": "1.5.0",
            "_model_name": "HTMLModel",
            "_view_count": null,
            "_view_module": "@jupyter-widgets/controls",
            "_view_module_version": "1.5.0",
            "_view_name": "HTMLView",
            "description": "",
            "description_tooltip": null,
            "layout": "IPY_MODEL_c717a9d31f0f40a789a2d800348c89b4",
            "placeholder": "​",
            "style": "IPY_MODEL_f5127599b86d4aed97f828d55606ccf3",
            "value": " 186/186 [52:31&lt;00:00, 15.08s/it]"
          }
        },
        "d65dd3cb9bdb4bf58df59e32b0695a5e": {
          "model_module": "@jupyter-widgets/base",
          "model_name": "LayoutModel",
          "model_module_version": "1.2.0",
          "state": {
            "_model_module": "@jupyter-widgets/base",
            "_model_module_version": "1.2.0",
            "_model_name": "LayoutModel",
            "_view_count": null,
            "_view_module": "@jupyter-widgets/base",
            "_view_module_version": "1.2.0",
            "_view_name": "LayoutView",
            "align_content": null,
            "align_items": null,
            "align_self": null,
            "border": null,
            "bottom": null,
            "display": null,
            "flex": null,
            "flex_flow": null,
            "grid_area": null,
            "grid_auto_columns": null,
            "grid_auto_flow": null,
            "grid_auto_rows": null,
            "grid_column": null,
            "grid_gap": null,
            "grid_row": null,
            "grid_template_areas": null,
            "grid_template_columns": null,
            "grid_template_rows": null,
            "height": null,
            "justify_content": null,
            "justify_items": null,
            "left": null,
            "margin": null,
            "max_height": null,
            "max_width": null,
            "min_height": null,
            "min_width": null,
            "object_fit": null,
            "object_position": null,
            "order": null,
            "overflow": null,
            "overflow_x": null,
            "overflow_y": null,
            "padding": null,
            "right": null,
            "top": null,
            "visibility": null,
            "width": null
          }
        },
        "e3997df15f3747efa654b3597f06e9c5": {
          "model_module": "@jupyter-widgets/base",
          "model_name": "LayoutModel",
          "model_module_version": "1.2.0",
          "state": {
            "_model_module": "@jupyter-widgets/base",
            "_model_module_version": "1.2.0",
            "_model_name": "LayoutModel",
            "_view_count": null,
            "_view_module": "@jupyter-widgets/base",
            "_view_module_version": "1.2.0",
            "_view_name": "LayoutView",
            "align_content": null,
            "align_items": null,
            "align_self": null,
            "border": null,
            "bottom": null,
            "display": null,
            "flex": null,
            "flex_flow": null,
            "grid_area": null,
            "grid_auto_columns": null,
            "grid_auto_flow": null,
            "grid_auto_rows": null,
            "grid_column": null,
            "grid_gap": null,
            "grid_row": null,
            "grid_template_areas": null,
            "grid_template_columns": null,
            "grid_template_rows": null,
            "height": null,
            "justify_content": null,
            "justify_items": null,
            "left": null,
            "margin": null,
            "max_height": null,
            "max_width": null,
            "min_height": null,
            "min_width": null,
            "object_fit": null,
            "object_position": null,
            "order": null,
            "overflow": null,
            "overflow_x": null,
            "overflow_y": null,
            "padding": null,
            "right": null,
            "top": null,
            "visibility": null,
            "width": null
          }
        },
        "14614855b6a94d098eda2b00d85d317e": {
          "model_module": "@jupyter-widgets/controls",
          "model_name": "DescriptionStyleModel",
          "model_module_version": "1.5.0",
          "state": {
            "_model_module": "@jupyter-widgets/controls",
            "_model_module_version": "1.5.0",
            "_model_name": "DescriptionStyleModel",
            "_view_count": null,
            "_view_module": "@jupyter-widgets/base",
            "_view_module_version": "1.2.0",
            "_view_name": "StyleView",
            "description_width": ""
          }
        },
        "51a44b94700c42a1ab3119108d325770": {
          "model_module": "@jupyter-widgets/base",
          "model_name": "LayoutModel",
          "model_module_version": "1.2.0",
          "state": {
            "_model_module": "@jupyter-widgets/base",
            "_model_module_version": "1.2.0",
            "_model_name": "LayoutModel",
            "_view_count": null,
            "_view_module": "@jupyter-widgets/base",
            "_view_module_version": "1.2.0",
            "_view_name": "LayoutView",
            "align_content": null,
            "align_items": null,
            "align_self": null,
            "border": null,
            "bottom": null,
            "display": null,
            "flex": null,
            "flex_flow": null,
            "grid_area": null,
            "grid_auto_columns": null,
            "grid_auto_flow": null,
            "grid_auto_rows": null,
            "grid_column": null,
            "grid_gap": null,
            "grid_row": null,
            "grid_template_areas": null,
            "grid_template_columns": null,
            "grid_template_rows": null,
            "height": null,
            "justify_content": null,
            "justify_items": null,
            "left": null,
            "margin": null,
            "max_height": null,
            "max_width": null,
            "min_height": null,
            "min_width": null,
            "object_fit": null,
            "object_position": null,
            "order": null,
            "overflow": null,
            "overflow_x": null,
            "overflow_y": null,
            "padding": null,
            "right": null,
            "top": null,
            "visibility": null,
            "width": null
          }
        },
        "a3326cbde6744d90a118b517e8d29c43": {
          "model_module": "@jupyter-widgets/controls",
          "model_name": "ProgressStyleModel",
          "model_module_version": "1.5.0",
          "state": {
            "_model_module": "@jupyter-widgets/controls",
            "_model_module_version": "1.5.0",
            "_model_name": "ProgressStyleModel",
            "_view_count": null,
            "_view_module": "@jupyter-widgets/base",
            "_view_module_version": "1.2.0",
            "_view_name": "StyleView",
            "bar_color": null,
            "description_width": ""
          }
        },
        "c717a9d31f0f40a789a2d800348c89b4": {
          "model_module": "@jupyter-widgets/base",
          "model_name": "LayoutModel",
          "model_module_version": "1.2.0",
          "state": {
            "_model_module": "@jupyter-widgets/base",
            "_model_module_version": "1.2.0",
            "_model_name": "LayoutModel",
            "_view_count": null,
            "_view_module": "@jupyter-widgets/base",
            "_view_module_version": "1.2.0",
            "_view_name": "LayoutView",
            "align_content": null,
            "align_items": null,
            "align_self": null,
            "border": null,
            "bottom": null,
            "display": null,
            "flex": null,
            "flex_flow": null,
            "grid_area": null,
            "grid_auto_columns": null,
            "grid_auto_flow": null,
            "grid_auto_rows": null,
            "grid_column": null,
            "grid_gap": null,
            "grid_row": null,
            "grid_template_areas": null,
            "grid_template_columns": null,
            "grid_template_rows": null,
            "height": null,
            "justify_content": null,
            "justify_items": null,
            "left": null,
            "margin": null,
            "max_height": null,
            "max_width": null,
            "min_height": null,
            "min_width": null,
            "object_fit": null,
            "object_position": null,
            "order": null,
            "overflow": null,
            "overflow_x": null,
            "overflow_y": null,
            "padding": null,
            "right": null,
            "top": null,
            "visibility": null,
            "width": null
          }
        },
        "f5127599b86d4aed97f828d55606ccf3": {
          "model_module": "@jupyter-widgets/controls",
          "model_name": "DescriptionStyleModel",
          "model_module_version": "1.5.0",
          "state": {
            "_model_module": "@jupyter-widgets/controls",
            "_model_module_version": "1.5.0",
            "_model_name": "DescriptionStyleModel",
            "_view_count": null,
            "_view_module": "@jupyter-widgets/base",
            "_view_module_version": "1.2.0",
            "_view_name": "StyleView",
            "description_width": ""
          }
        }
      }
    }
  },
  "nbformat": 4,
  "nbformat_minor": 0
}